{
  "cells": [
    {
      "cell_type": "markdown",
      "metadata": {
        "id": "ho6d3kzx1HTI"
      },
      "source": [
        "# 기계학습 TermProject\n",
        "### 2018170802 최경석\n",
        "#### 1) 실험 내용에 대한 전체 요약 \n",
        "- Dacon의 \"월간 데이콘 신용카드 사용자 연체 예측 AI 경진대회\"의 데이터 사용 (각 Feature에 대한 자세한 설명은 아래에 있음 )\n",
        "\n",
        "- EDA를 통한 변수 분포 및 특징 파악\n",
        "\n",
        "- Feautre들에 대한 전처리 진행\n",
        "  - Feature Engineering\n",
        "  - 결측치 처리 (Datawig)\n",
        "  - Normalization, Label Encoding\n",
        "\n",
        "- Feature Selection 진행\n",
        "  - Feature Selection 적용하지 않은 Original Data & Feature Selection 적용한 Data 각각에 대해 Model 구축\n",
        "\n",
        "- 사용 모델\n",
        "  - Logistic Regression\n",
        "  - Random Forest Classifier\n",
        "  - Support Vector Classifier\n",
        "  - CatBoost\n",
        "  - Soft Voting \n",
        "\n",
        "- Test data가 주어졌기 떄문에, Train Data를 Train, Validation Set으로 split\n",
        "- 10 fold Cross Validation을 통한 Model 학습\n",
        "\n",
        "<br><br>\n",
        "\n",
        "#### 2) 데이터 출처 및 선정한 데이터에 대한 설명\n",
        "- 데이터 출처 : https://dacon.io/competitions/official/235713/data \n",
        "\n",
        "- 데이터 설명 : EDA 과정에 변수 설명 및 분포 확인\n",
        "\n",
        "\n"
      ]
    },
    {
      "cell_type": "code",
      "source": [
        "! pip install datawig\n",
        "import datawig"
      ],
      "metadata": {
        "id": "D-JS2Ikarqq4"
      },
      "execution_count": null,
      "outputs": []
    },
    {
      "cell_type": "code",
      "source": [
        "! pip install numpy==1.16.6"
      ],
      "metadata": {
        "colab": {
          "base_uri": "https://localhost:8080/"
        },
        "id": "p0S-_Erss70Y",
        "outputId": "c744b0de-d71d-47c3-b82d-1a4639754c25"
      },
      "execution_count": null,
      "outputs": [
        {
          "output_type": "stream",
          "name": "stdout",
          "text": [
            "Looking in indexes: https://pypi.org/simple, https://us-python.pkg.dev/colab-wheels/public/simple/\n",
            "Requirement already satisfied: numpy==1.16.6 in /usr/local/lib/python3.8/dist-packages (1.16.6)\n"
          ]
        }
      ]
    },
    {
      "cell_type": "code",
      "execution_count": null,
      "metadata": {
        "id": "zhxjgW6bmbcz"
      },
      "outputs": [],
      "source": [
        "import numpy as np\n",
        "import pandas as pd\n",
        "import matplotlib.pyplot as plt\n",
        "import seaborn as sns\n",
        "import sklearn"
      ]
    },
    {
      "cell_type": "code",
      "execution_count": null,
      "metadata": {
        "colab": {
          "base_uri": "https://localhost:8080/"
        },
        "id": "ixbftZGqnvqj",
        "outputId": "8013defb-e4c1-49fc-9a0f-e6828242bc5f"
      },
      "outputs": [
        {
          "output_type": "stream",
          "name": "stdout",
          "text": [
            "Mounted at /content/drive\n"
          ]
        }
      ],
      "source": [
        "from google.colab import drive\n",
        "drive.mount('/content/drive', force_remount=True)"
      ]
    },
    {
      "cell_type": "markdown",
      "metadata": {
        "id": "isZRdG-jmo-O"
      },
      "source": [
        "# 0. 데이터 불러오기"
      ]
    },
    {
      "cell_type": "code",
      "execution_count": null,
      "metadata": {
        "id": "uC2qV_YrmkZ5"
      },
      "outputs": [],
      "source": [
        "train_df = pd.read_csv('/content/drive/MyDrive/Colab_Notebooks/2022_2 고려대학교/기계학습_termproject/open/train.csv')\n",
        "test_df = pd.read_csv('/content/drive/MyDrive/Colab_Notebooks/2022_2 고려대학교/기계학습_termproject/open/test.csv')"
      ]
    },
    {
      "cell_type": "code",
      "execution_count": null,
      "metadata": {
        "colab": {
          "base_uri": "https://localhost:8080/",
          "height": 426
        },
        "id": "7R9TTr1ppPu0",
        "outputId": "b071187c-02a9-4597-94a0-fb0ede9231af"
      },
      "outputs": [
        {
          "output_type": "execute_result",
          "data": {
            "text/plain": [
              "   index gender car reality  child_num  income_total           income_type  \\\n",
              "0      0      F   N       N          0      202500.0  Commercial associate   \n",
              "1      1      F   N       Y          1      247500.0  Commercial associate   \n",
              "2      2      M   Y       Y          0      450000.0               Working   \n",
              "3      3      F   N       Y          0      202500.0  Commercial associate   \n",
              "4      4      F   Y       Y          0      157500.0         State servant   \n",
              "\n",
              "                        edu_type     family_type           house_type  \\\n",
              "0               Higher education         Married  Municipal apartment   \n",
              "1  Secondary / secondary special  Civil marriage    House / apartment   \n",
              "2               Higher education         Married    House / apartment   \n",
              "3  Secondary / secondary special         Married    House / apartment   \n",
              "4               Higher education         Married    House / apartment   \n",
              "\n",
              "   DAYS_BIRTH  DAYS_EMPLOYED  FLAG_MOBIL  work_phone  phone  email  \\\n",
              "0      -13899          -4709           1           0      0      0   \n",
              "1      -11380          -1540           1           0      0      1   \n",
              "2      -19087          -4434           1           0      1      0   \n",
              "3      -15088          -2092           1           0      1      0   \n",
              "4      -15037          -2105           1           0      0      0   \n",
              "\n",
              "    occyp_type  family_size  begin_month  credit  \n",
              "0          NaN          2.0         -6.0     1.0  \n",
              "1     Laborers          3.0         -5.0     1.0  \n",
              "2     Managers          2.0        -22.0     2.0  \n",
              "3  Sales staff          2.0        -37.0     0.0  \n",
              "4     Managers          2.0        -26.0     2.0  "
            ],
            "text/html": [
              "\n",
              "  <div id=\"df-e8184cfe-8fa9-407c-908b-5b8ae5b56cb0\">\n",
              "    <div class=\"colab-df-container\">\n",
              "      <div>\n",
              "<style scoped>\n",
              "    .dataframe tbody tr th:only-of-type {\n",
              "        vertical-align: middle;\n",
              "    }\n",
              "\n",
              "    .dataframe tbody tr th {\n",
              "        vertical-align: top;\n",
              "    }\n",
              "\n",
              "    .dataframe thead th {\n",
              "        text-align: right;\n",
              "    }\n",
              "</style>\n",
              "<table border=\"1\" class=\"dataframe\">\n",
              "  <thead>\n",
              "    <tr style=\"text-align: right;\">\n",
              "      <th></th>\n",
              "      <th>index</th>\n",
              "      <th>gender</th>\n",
              "      <th>car</th>\n",
              "      <th>reality</th>\n",
              "      <th>child_num</th>\n",
              "      <th>income_total</th>\n",
              "      <th>income_type</th>\n",
              "      <th>edu_type</th>\n",
              "      <th>family_type</th>\n",
              "      <th>house_type</th>\n",
              "      <th>DAYS_BIRTH</th>\n",
              "      <th>DAYS_EMPLOYED</th>\n",
              "      <th>FLAG_MOBIL</th>\n",
              "      <th>work_phone</th>\n",
              "      <th>phone</th>\n",
              "      <th>email</th>\n",
              "      <th>occyp_type</th>\n",
              "      <th>family_size</th>\n",
              "      <th>begin_month</th>\n",
              "      <th>credit</th>\n",
              "    </tr>\n",
              "  </thead>\n",
              "  <tbody>\n",
              "    <tr>\n",
              "      <th>0</th>\n",
              "      <td>0</td>\n",
              "      <td>F</td>\n",
              "      <td>N</td>\n",
              "      <td>N</td>\n",
              "      <td>0</td>\n",
              "      <td>202500.0</td>\n",
              "      <td>Commercial associate</td>\n",
              "      <td>Higher education</td>\n",
              "      <td>Married</td>\n",
              "      <td>Municipal apartment</td>\n",
              "      <td>-13899</td>\n",
              "      <td>-4709</td>\n",
              "      <td>1</td>\n",
              "      <td>0</td>\n",
              "      <td>0</td>\n",
              "      <td>0</td>\n",
              "      <td>NaN</td>\n",
              "      <td>2.0</td>\n",
              "      <td>-6.0</td>\n",
              "      <td>1.0</td>\n",
              "    </tr>\n",
              "    <tr>\n",
              "      <th>1</th>\n",
              "      <td>1</td>\n",
              "      <td>F</td>\n",
              "      <td>N</td>\n",
              "      <td>Y</td>\n",
              "      <td>1</td>\n",
              "      <td>247500.0</td>\n",
              "      <td>Commercial associate</td>\n",
              "      <td>Secondary / secondary special</td>\n",
              "      <td>Civil marriage</td>\n",
              "      <td>House / apartment</td>\n",
              "      <td>-11380</td>\n",
              "      <td>-1540</td>\n",
              "      <td>1</td>\n",
              "      <td>0</td>\n",
              "      <td>0</td>\n",
              "      <td>1</td>\n",
              "      <td>Laborers</td>\n",
              "      <td>3.0</td>\n",
              "      <td>-5.0</td>\n",
              "      <td>1.0</td>\n",
              "    </tr>\n",
              "    <tr>\n",
              "      <th>2</th>\n",
              "      <td>2</td>\n",
              "      <td>M</td>\n",
              "      <td>Y</td>\n",
              "      <td>Y</td>\n",
              "      <td>0</td>\n",
              "      <td>450000.0</td>\n",
              "      <td>Working</td>\n",
              "      <td>Higher education</td>\n",
              "      <td>Married</td>\n",
              "      <td>House / apartment</td>\n",
              "      <td>-19087</td>\n",
              "      <td>-4434</td>\n",
              "      <td>1</td>\n",
              "      <td>0</td>\n",
              "      <td>1</td>\n",
              "      <td>0</td>\n",
              "      <td>Managers</td>\n",
              "      <td>2.0</td>\n",
              "      <td>-22.0</td>\n",
              "      <td>2.0</td>\n",
              "    </tr>\n",
              "    <tr>\n",
              "      <th>3</th>\n",
              "      <td>3</td>\n",
              "      <td>F</td>\n",
              "      <td>N</td>\n",
              "      <td>Y</td>\n",
              "      <td>0</td>\n",
              "      <td>202500.0</td>\n",
              "      <td>Commercial associate</td>\n",
              "      <td>Secondary / secondary special</td>\n",
              "      <td>Married</td>\n",
              "      <td>House / apartment</td>\n",
              "      <td>-15088</td>\n",
              "      <td>-2092</td>\n",
              "      <td>1</td>\n",
              "      <td>0</td>\n",
              "      <td>1</td>\n",
              "      <td>0</td>\n",
              "      <td>Sales staff</td>\n",
              "      <td>2.0</td>\n",
              "      <td>-37.0</td>\n",
              "      <td>0.0</td>\n",
              "    </tr>\n",
              "    <tr>\n",
              "      <th>4</th>\n",
              "      <td>4</td>\n",
              "      <td>F</td>\n",
              "      <td>Y</td>\n",
              "      <td>Y</td>\n",
              "      <td>0</td>\n",
              "      <td>157500.0</td>\n",
              "      <td>State servant</td>\n",
              "      <td>Higher education</td>\n",
              "      <td>Married</td>\n",
              "      <td>House / apartment</td>\n",
              "      <td>-15037</td>\n",
              "      <td>-2105</td>\n",
              "      <td>1</td>\n",
              "      <td>0</td>\n",
              "      <td>0</td>\n",
              "      <td>0</td>\n",
              "      <td>Managers</td>\n",
              "      <td>2.0</td>\n",
              "      <td>-26.0</td>\n",
              "      <td>2.0</td>\n",
              "    </tr>\n",
              "  </tbody>\n",
              "</table>\n",
              "</div>\n",
              "      <button class=\"colab-df-convert\" onclick=\"convertToInteractive('df-e8184cfe-8fa9-407c-908b-5b8ae5b56cb0')\"\n",
              "              title=\"Convert this dataframe to an interactive table.\"\n",
              "              style=\"display:none;\">\n",
              "        \n",
              "  <svg xmlns=\"http://www.w3.org/2000/svg\" height=\"24px\"viewBox=\"0 0 24 24\"\n",
              "       width=\"24px\">\n",
              "    <path d=\"M0 0h24v24H0V0z\" fill=\"none\"/>\n",
              "    <path d=\"M18.56 5.44l.94 2.06.94-2.06 2.06-.94-2.06-.94-.94-2.06-.94 2.06-2.06.94zm-11 1L8.5 8.5l.94-2.06 2.06-.94-2.06-.94L8.5 2.5l-.94 2.06-2.06.94zm10 10l.94 2.06.94-2.06 2.06-.94-2.06-.94-.94-2.06-.94 2.06-2.06.94z\"/><path d=\"M17.41 7.96l-1.37-1.37c-.4-.4-.92-.59-1.43-.59-.52 0-1.04.2-1.43.59L10.3 9.45l-7.72 7.72c-.78.78-.78 2.05 0 2.83L4 21.41c.39.39.9.59 1.41.59.51 0 1.02-.2 1.41-.59l7.78-7.78 2.81-2.81c.8-.78.8-2.07 0-2.86zM5.41 20L4 18.59l7.72-7.72 1.47 1.35L5.41 20z\"/>\n",
              "  </svg>\n",
              "      </button>\n",
              "      \n",
              "  <style>\n",
              "    .colab-df-container {\n",
              "      display:flex;\n",
              "      flex-wrap:wrap;\n",
              "      gap: 12px;\n",
              "    }\n",
              "\n",
              "    .colab-df-convert {\n",
              "      background-color: #E8F0FE;\n",
              "      border: none;\n",
              "      border-radius: 50%;\n",
              "      cursor: pointer;\n",
              "      display: none;\n",
              "      fill: #1967D2;\n",
              "      height: 32px;\n",
              "      padding: 0 0 0 0;\n",
              "      width: 32px;\n",
              "    }\n",
              "\n",
              "    .colab-df-convert:hover {\n",
              "      background-color: #E2EBFA;\n",
              "      box-shadow: 0px 1px 2px rgba(60, 64, 67, 0.3), 0px 1px 3px 1px rgba(60, 64, 67, 0.15);\n",
              "      fill: #174EA6;\n",
              "    }\n",
              "\n",
              "    [theme=dark] .colab-df-convert {\n",
              "      background-color: #3B4455;\n",
              "      fill: #D2E3FC;\n",
              "    }\n",
              "\n",
              "    [theme=dark] .colab-df-convert:hover {\n",
              "      background-color: #434B5C;\n",
              "      box-shadow: 0px 1px 3px 1px rgba(0, 0, 0, 0.15);\n",
              "      filter: drop-shadow(0px 1px 2px rgba(0, 0, 0, 0.3));\n",
              "      fill: #FFFFFF;\n",
              "    }\n",
              "  </style>\n",
              "\n",
              "      <script>\n",
              "        const buttonEl =\n",
              "          document.querySelector('#df-e8184cfe-8fa9-407c-908b-5b8ae5b56cb0 button.colab-df-convert');\n",
              "        buttonEl.style.display =\n",
              "          google.colab.kernel.accessAllowed ? 'block' : 'none';\n",
              "\n",
              "        async function convertToInteractive(key) {\n",
              "          const element = document.querySelector('#df-e8184cfe-8fa9-407c-908b-5b8ae5b56cb0');\n",
              "          const dataTable =\n",
              "            await google.colab.kernel.invokeFunction('convertToInteractive',\n",
              "                                                     [key], {});\n",
              "          if (!dataTable) return;\n",
              "\n",
              "          const docLinkHtml = 'Like what you see? Visit the ' +\n",
              "            '<a target=\"_blank\" href=https://colab.research.google.com/notebooks/data_table.ipynb>data table notebook</a>'\n",
              "            + ' to learn more about interactive tables.';\n",
              "          element.innerHTML = '';\n",
              "          dataTable['output_type'] = 'display_data';\n",
              "          await google.colab.output.renderOutput(dataTable, element);\n",
              "          const docLink = document.createElement('div');\n",
              "          docLink.innerHTML = docLinkHtml;\n",
              "          element.appendChild(docLink);\n",
              "        }\n",
              "      </script>\n",
              "    </div>\n",
              "  </div>\n",
              "  "
            ]
          },
          "metadata": {},
          "execution_count": 5
        }
      ],
      "source": [
        "train_df.head()"
      ]
    },
    {
      "cell_type": "code",
      "execution_count": null,
      "metadata": {
        "colab": {
          "base_uri": "https://localhost:8080/",
          "height": 461
        },
        "id": "ofhGtO3h8CyZ",
        "outputId": "a6d33ffb-afe0-45b7-94df-55a0a72ad4eb"
      },
      "outputs": [
        {
          "output_type": "execute_result",
          "data": {
            "text/plain": [
              "   index gender car reality  child_num  income_total           income_type  \\\n",
              "0  26457      M   Y       N          0      112500.0             Pensioner   \n",
              "1  26458      F   N       Y          0      135000.0         State servant   \n",
              "2  26459      F   N       Y          0       69372.0               Working   \n",
              "3  26460      M   Y       N          0      112500.0  Commercial associate   \n",
              "4  26461      F   Y       Y          0      225000.0         State servant   \n",
              "\n",
              "                        edu_type     family_type         house_type  \\\n",
              "0  Secondary / secondary special  Civil marriage  House / apartment   \n",
              "1               Higher education         Married  House / apartment   \n",
              "2  Secondary / secondary special         Married  House / apartment   \n",
              "3  Secondary / secondary special         Married  House / apartment   \n",
              "4               Higher education         Married  House / apartment   \n",
              "\n",
              "   DAYS_BIRTH  DAYS_EMPLOYED  FLAG_MOBIL  work_phone  phone  email  \\\n",
              "0      -21990         365243           1           0      1      0   \n",
              "1      -18964          -8671           1           0      1      0   \n",
              "2      -15887           -217           1           1      1      0   \n",
              "3      -19270          -2531           1           1      0      0   \n",
              "4      -17822          -9385           1           1      0      0   \n",
              "\n",
              "   occyp_type  family_size  begin_month  \n",
              "0         NaN          2.0        -60.0  \n",
              "1  Core staff          2.0        -36.0  \n",
              "2    Laborers          2.0        -40.0  \n",
              "3     Drivers          2.0        -41.0  \n",
              "4    Managers          2.0         -8.0  "
            ],
            "text/html": [
              "\n",
              "  <div id=\"df-1d96712a-54c4-4af6-956b-7a05dcd2f0e4\">\n",
              "    <div class=\"colab-df-container\">\n",
              "      <div>\n",
              "<style scoped>\n",
              "    .dataframe tbody tr th:only-of-type {\n",
              "        vertical-align: middle;\n",
              "    }\n",
              "\n",
              "    .dataframe tbody tr th {\n",
              "        vertical-align: top;\n",
              "    }\n",
              "\n",
              "    .dataframe thead th {\n",
              "        text-align: right;\n",
              "    }\n",
              "</style>\n",
              "<table border=\"1\" class=\"dataframe\">\n",
              "  <thead>\n",
              "    <tr style=\"text-align: right;\">\n",
              "      <th></th>\n",
              "      <th>index</th>\n",
              "      <th>gender</th>\n",
              "      <th>car</th>\n",
              "      <th>reality</th>\n",
              "      <th>child_num</th>\n",
              "      <th>income_total</th>\n",
              "      <th>income_type</th>\n",
              "      <th>edu_type</th>\n",
              "      <th>family_type</th>\n",
              "      <th>house_type</th>\n",
              "      <th>DAYS_BIRTH</th>\n",
              "      <th>DAYS_EMPLOYED</th>\n",
              "      <th>FLAG_MOBIL</th>\n",
              "      <th>work_phone</th>\n",
              "      <th>phone</th>\n",
              "      <th>email</th>\n",
              "      <th>occyp_type</th>\n",
              "      <th>family_size</th>\n",
              "      <th>begin_month</th>\n",
              "    </tr>\n",
              "  </thead>\n",
              "  <tbody>\n",
              "    <tr>\n",
              "      <th>0</th>\n",
              "      <td>26457</td>\n",
              "      <td>M</td>\n",
              "      <td>Y</td>\n",
              "      <td>N</td>\n",
              "      <td>0</td>\n",
              "      <td>112500.0</td>\n",
              "      <td>Pensioner</td>\n",
              "      <td>Secondary / secondary special</td>\n",
              "      <td>Civil marriage</td>\n",
              "      <td>House / apartment</td>\n",
              "      <td>-21990</td>\n",
              "      <td>365243</td>\n",
              "      <td>1</td>\n",
              "      <td>0</td>\n",
              "      <td>1</td>\n",
              "      <td>0</td>\n",
              "      <td>NaN</td>\n",
              "      <td>2.0</td>\n",
              "      <td>-60.0</td>\n",
              "    </tr>\n",
              "    <tr>\n",
              "      <th>1</th>\n",
              "      <td>26458</td>\n",
              "      <td>F</td>\n",
              "      <td>N</td>\n",
              "      <td>Y</td>\n",
              "      <td>0</td>\n",
              "      <td>135000.0</td>\n",
              "      <td>State servant</td>\n",
              "      <td>Higher education</td>\n",
              "      <td>Married</td>\n",
              "      <td>House / apartment</td>\n",
              "      <td>-18964</td>\n",
              "      <td>-8671</td>\n",
              "      <td>1</td>\n",
              "      <td>0</td>\n",
              "      <td>1</td>\n",
              "      <td>0</td>\n",
              "      <td>Core staff</td>\n",
              "      <td>2.0</td>\n",
              "      <td>-36.0</td>\n",
              "    </tr>\n",
              "    <tr>\n",
              "      <th>2</th>\n",
              "      <td>26459</td>\n",
              "      <td>F</td>\n",
              "      <td>N</td>\n",
              "      <td>Y</td>\n",
              "      <td>0</td>\n",
              "      <td>69372.0</td>\n",
              "      <td>Working</td>\n",
              "      <td>Secondary / secondary special</td>\n",
              "      <td>Married</td>\n",
              "      <td>House / apartment</td>\n",
              "      <td>-15887</td>\n",
              "      <td>-217</td>\n",
              "      <td>1</td>\n",
              "      <td>1</td>\n",
              "      <td>1</td>\n",
              "      <td>0</td>\n",
              "      <td>Laborers</td>\n",
              "      <td>2.0</td>\n",
              "      <td>-40.0</td>\n",
              "    </tr>\n",
              "    <tr>\n",
              "      <th>3</th>\n",
              "      <td>26460</td>\n",
              "      <td>M</td>\n",
              "      <td>Y</td>\n",
              "      <td>N</td>\n",
              "      <td>0</td>\n",
              "      <td>112500.0</td>\n",
              "      <td>Commercial associate</td>\n",
              "      <td>Secondary / secondary special</td>\n",
              "      <td>Married</td>\n",
              "      <td>House / apartment</td>\n",
              "      <td>-19270</td>\n",
              "      <td>-2531</td>\n",
              "      <td>1</td>\n",
              "      <td>1</td>\n",
              "      <td>0</td>\n",
              "      <td>0</td>\n",
              "      <td>Drivers</td>\n",
              "      <td>2.0</td>\n",
              "      <td>-41.0</td>\n",
              "    </tr>\n",
              "    <tr>\n",
              "      <th>4</th>\n",
              "      <td>26461</td>\n",
              "      <td>F</td>\n",
              "      <td>Y</td>\n",
              "      <td>Y</td>\n",
              "      <td>0</td>\n",
              "      <td>225000.0</td>\n",
              "      <td>State servant</td>\n",
              "      <td>Higher education</td>\n",
              "      <td>Married</td>\n",
              "      <td>House / apartment</td>\n",
              "      <td>-17822</td>\n",
              "      <td>-9385</td>\n",
              "      <td>1</td>\n",
              "      <td>1</td>\n",
              "      <td>0</td>\n",
              "      <td>0</td>\n",
              "      <td>Managers</td>\n",
              "      <td>2.0</td>\n",
              "      <td>-8.0</td>\n",
              "    </tr>\n",
              "  </tbody>\n",
              "</table>\n",
              "</div>\n",
              "      <button class=\"colab-df-convert\" onclick=\"convertToInteractive('df-1d96712a-54c4-4af6-956b-7a05dcd2f0e4')\"\n",
              "              title=\"Convert this dataframe to an interactive table.\"\n",
              "              style=\"display:none;\">\n",
              "        \n",
              "  <svg xmlns=\"http://www.w3.org/2000/svg\" height=\"24px\"viewBox=\"0 0 24 24\"\n",
              "       width=\"24px\">\n",
              "    <path d=\"M0 0h24v24H0V0z\" fill=\"none\"/>\n",
              "    <path d=\"M18.56 5.44l.94 2.06.94-2.06 2.06-.94-2.06-.94-.94-2.06-.94 2.06-2.06.94zm-11 1L8.5 8.5l.94-2.06 2.06-.94-2.06-.94L8.5 2.5l-.94 2.06-2.06.94zm10 10l.94 2.06.94-2.06 2.06-.94-2.06-.94-.94-2.06-.94 2.06-2.06.94z\"/><path d=\"M17.41 7.96l-1.37-1.37c-.4-.4-.92-.59-1.43-.59-.52 0-1.04.2-1.43.59L10.3 9.45l-7.72 7.72c-.78.78-.78 2.05 0 2.83L4 21.41c.39.39.9.59 1.41.59.51 0 1.02-.2 1.41-.59l7.78-7.78 2.81-2.81c.8-.78.8-2.07 0-2.86zM5.41 20L4 18.59l7.72-7.72 1.47 1.35L5.41 20z\"/>\n",
              "  </svg>\n",
              "      </button>\n",
              "      \n",
              "  <style>\n",
              "    .colab-df-container {\n",
              "      display:flex;\n",
              "      flex-wrap:wrap;\n",
              "      gap: 12px;\n",
              "    }\n",
              "\n",
              "    .colab-df-convert {\n",
              "      background-color: #E8F0FE;\n",
              "      border: none;\n",
              "      border-radius: 50%;\n",
              "      cursor: pointer;\n",
              "      display: none;\n",
              "      fill: #1967D2;\n",
              "      height: 32px;\n",
              "      padding: 0 0 0 0;\n",
              "      width: 32px;\n",
              "    }\n",
              "\n",
              "    .colab-df-convert:hover {\n",
              "      background-color: #E2EBFA;\n",
              "      box-shadow: 0px 1px 2px rgba(60, 64, 67, 0.3), 0px 1px 3px 1px rgba(60, 64, 67, 0.15);\n",
              "      fill: #174EA6;\n",
              "    }\n",
              "\n",
              "    [theme=dark] .colab-df-convert {\n",
              "      background-color: #3B4455;\n",
              "      fill: #D2E3FC;\n",
              "    }\n",
              "\n",
              "    [theme=dark] .colab-df-convert:hover {\n",
              "      background-color: #434B5C;\n",
              "      box-shadow: 0px 1px 3px 1px rgba(0, 0, 0, 0.15);\n",
              "      filter: drop-shadow(0px 1px 2px rgba(0, 0, 0, 0.3));\n",
              "      fill: #FFFFFF;\n",
              "    }\n",
              "  </style>\n",
              "\n",
              "      <script>\n",
              "        const buttonEl =\n",
              "          document.querySelector('#df-1d96712a-54c4-4af6-956b-7a05dcd2f0e4 button.colab-df-convert');\n",
              "        buttonEl.style.display =\n",
              "          google.colab.kernel.accessAllowed ? 'block' : 'none';\n",
              "\n",
              "        async function convertToInteractive(key) {\n",
              "          const element = document.querySelector('#df-1d96712a-54c4-4af6-956b-7a05dcd2f0e4');\n",
              "          const dataTable =\n",
              "            await google.colab.kernel.invokeFunction('convertToInteractive',\n",
              "                                                     [key], {});\n",
              "          if (!dataTable) return;\n",
              "\n",
              "          const docLinkHtml = 'Like what you see? Visit the ' +\n",
              "            '<a target=\"_blank\" href=https://colab.research.google.com/notebooks/data_table.ipynb>data table notebook</a>'\n",
              "            + ' to learn more about interactive tables.';\n",
              "          element.innerHTML = '';\n",
              "          dataTable['output_type'] = 'display_data';\n",
              "          await google.colab.output.renderOutput(dataTable, element);\n",
              "          const docLink = document.createElement('div');\n",
              "          docLink.innerHTML = docLinkHtml;\n",
              "          element.appendChild(docLink);\n",
              "        }\n",
              "      </script>\n",
              "    </div>\n",
              "  </div>\n",
              "  "
            ]
          },
          "metadata": {},
          "execution_count": 6
        }
      ],
      "source": [
        "test_df.head()"
      ]
    },
    {
      "cell_type": "markdown",
      "metadata": {
        "id": "1XF1ShSzmqYk"
      },
      "source": [
        "# 1. EDA"
      ]
    },
    {
      "cell_type": "markdown",
      "metadata": {
        "id": "NeiHjqSH8VJH"
      },
      "source": [
        "## 1-1. 변수 설명\n",
        "index <br>\n",
        "gender: 성별 <br>\n",
        "car: 차량 소유 여부 <br>\n",
        "reality: 부동산 소유 여부 <br>\n",
        "child_num: 자녀 수 <br>\n",
        "income_total: 연간 소득 <br>\n",
        "income_type: 소득 분류 <br>\n",
        "\n",
        "\t\t\t\t\t\t\t['Commercial associate', 'Working', 'State servant', 'Pensioner', 'Student']\n",
        "\n",
        "edu_type: 교육 수준 <br>\n",
        "\n",
        "\t\t\t\t\t\t\t['Higher education' ,'Secondary / secondary special', 'Incomplete higher', 'Lower secondary', 'Academic degree']\n",
        "\n",
        "family_type: 결혼 여부 <br>\n",
        "\n",
        "\t\t\t\t\t\t\t['Married', 'Civil marriage', 'Separated', 'Single / not married', 'Widow']\n",
        "\n",
        "house_type: 생활 방식 <br>\n",
        "\n",
        "\t\t\t\t\t\t\t['Municipal apartment', 'House / apartment', 'With parents',\n",
        "\n",
        "\t\t\t\t\t\t\t 'Co-op apartment', 'Rented apartment', 'Office apartment']\n",
        "\n",
        "DAYS_BIRTH: 출생일 <br>\n",
        "\n",
        "\t\t\t\t\t\t\t데이터 수집 당시 (0)부터 역으로 셈, 즉, -1은 데이터 수집일 하루 전에 태어났음을 의미\n",
        "\n",
        "DAYS_EMPLOYED: 업무 시작일 <br>\n",
        "\n",
        "\t\t\t\t\t\t\t데이터 수집 당시 (0)부터 역으로 셈, 즉, -1은 데이터 수집일 하루 전부터 일을 시작함을 의미\n",
        "\n",
        "\t\t\t\t\t\t\t양수 값은 고용되지 않은 상태를 의미함\n",
        "\n",
        "FLAG_MOBIL: 핸드폰 소유 여부 <br>\n",
        "work_phone: 업무용 전화 소유 여부 <br>\n",
        "phone: 전화 소유 여부 <br>\n",
        "email: 이메일 소유 여부 <br>\n",
        "occyp_type: 직업 유형 <br>\t\t\t\t\t\t\t\t\t\t\t\t\t\n",
        "family_size: 가족 규모 <br>\n",
        "begin_month: 신용카드 발급 월 <br>\n",
        "\n",
        "\t\t\t\t\t\t\t데이터 수집 당시 (0)부터 역으로 셈, 즉, -1은 데이터 수집일 한 달 전에 신용카드를 발급함을 의미\n",
        "\n",
        "credit: 사용자의 신용카드 대금 연체를 기준으로 한 신용도 <br>\n",
        "\n",
        "\t\t\t\t\t\t\t=> 낮을 수록 높은 신용의 신용카드 사용자를 의미함"
      ]
    },
    {
      "cell_type": "code",
      "execution_count": null,
      "metadata": {
        "colab": {
          "base_uri": "https://localhost:8080/"
        },
        "id": "hxs1f3zLFwTf",
        "outputId": "fd3066d2-e62f-44b0-9cdd-28630f913238"
      },
      "outputs": [
        {
          "output_type": "stream",
          "name": "stdout",
          "text": [
            "26457\n",
            "10000\n"
          ]
        }
      ],
      "source": [
        "print(len(train_df))\n",
        "print(len(test_df))"
      ]
    },
    {
      "cell_type": "markdown",
      "metadata": {
        "id": "CtxwyirM8M5i"
      },
      "source": [
        "## 1-2. 결측치 확인"
      ]
    },
    {
      "cell_type": "code",
      "execution_count": null,
      "metadata": {
        "colab": {
          "base_uri": "https://localhost:8080/"
        },
        "id": "Dy8LrUwH8Ple",
        "outputId": "2187ce14-bc7a-4102-b53b-ae1099bd580c"
      },
      "outputs": [
        {
          "output_type": "stream",
          "name": "stderr",
          "text": [
            "INFO:numexpr.utils:NumExpr defaulting to 2 threads.\n",
            "2022-12-19 04:48:56,671 [INFO]  NumExpr defaulting to 2 threads.\n"
          ]
        },
        {
          "output_type": "execute_result",
          "data": {
            "text/plain": [
              "index             0.000000\n",
              "gender            0.000000\n",
              "car               0.000000\n",
              "reality           0.000000\n",
              "child_num         0.000000\n",
              "income_total      0.000000\n",
              "income_type       0.000000\n",
              "edu_type          0.000000\n",
              "family_type       0.000000\n",
              "house_type        0.000000\n",
              "DAYS_BIRTH        0.000000\n",
              "DAYS_EMPLOYED     0.000000\n",
              "FLAG_MOBIL        0.000000\n",
              "work_phone        0.000000\n",
              "phone             0.000000\n",
              "email             0.000000\n",
              "occyp_type       30.884076\n",
              "family_size       0.000000\n",
              "begin_month       0.000000\n",
              "credit            0.000000\n",
              "dtype: float64"
            ]
          },
          "metadata": {},
          "execution_count": 8
        }
      ],
      "source": [
        "train_df.isnull().sum()*100 / len(train_df)"
      ]
    },
    {
      "cell_type": "code",
      "execution_count": null,
      "metadata": {
        "colab": {
          "base_uri": "https://localhost:8080/"
        },
        "id": "p27vE3DJ8MZe",
        "outputId": "1baccbb2-5b5e-4a36-c58f-569e2f1df78d"
      },
      "outputs": [
        {
          "output_type": "execute_result",
          "data": {
            "text/plain": [
              "index             0.00\n",
              "gender            0.00\n",
              "car               0.00\n",
              "reality           0.00\n",
              "child_num         0.00\n",
              "income_total      0.00\n",
              "income_type       0.00\n",
              "edu_type          0.00\n",
              "family_type       0.00\n",
              "house_type        0.00\n",
              "DAYS_BIRTH        0.00\n",
              "DAYS_EMPLOYED     0.00\n",
              "FLAG_MOBIL        0.00\n",
              "work_phone        0.00\n",
              "phone             0.00\n",
              "email             0.00\n",
              "occyp_type       31.52\n",
              "family_size       0.00\n",
              "begin_month       0.00\n",
              "dtype: float64"
            ]
          },
          "metadata": {},
          "execution_count": 9
        }
      ],
      "source": [
        "test_df.isnull().sum()*100 / len(test_df)"
      ]
    },
    {
      "cell_type": "markdown",
      "metadata": {
        "id": "h0k_dOCZAyfZ"
      },
      "source": [
        "## 1-3. 변수 분포 확인"
      ]
    },
    {
      "cell_type": "markdown",
      "metadata": {
        "id": "MJcDqx_BB2wZ"
      },
      "source": [
        "Categorical : gender, car, reality, income_type, edu_type, family_type, house_type, FLAG_MOBIL, work_phone, phone, email, occyp_type <br>\n",
        "\n",
        "Numerical : child_num, income_total, DAYS_BIRTH, DAYS_EMPLOYED, family_size, begin_month <br>\n",
        "\n",
        "Target : credit\n"
      ]
    },
    {
      "cell_type": "markdown",
      "metadata": {
        "id": "dfV3Mk76A6jz"
      },
      "source": [
        "### 1. gender"
      ]
    },
    {
      "cell_type": "code",
      "execution_count": null,
      "metadata": {
        "colab": {
          "base_uri": "https://localhost:8080/",
          "height": 388
        },
        "id": "hZMX19NPAbha",
        "outputId": "0d0affa9-3058-47bb-8a91-d43d72aa3b24"
      },
      "outputs": [
        {
          "output_type": "display_data",
          "data": {
            "text/plain": [
              "<Figure size 1080x432 with 2 Axes>"
            ],
            "image/png": "[encoded data removed]"
          },
          "metadata": {
            "needs_background": "light"
          }
        }
      ],
      "source": [
        "fig = plt.figure(figsize=(15,6))\n",
        "ax1 = plt.subplot(1,2,1)\n",
        "sns.countplot(data=train_df, x=\"gender\", ax=ax1)\n",
        "ax2 = plt.subplot(1,2,2)\n",
        "sns.countplot(data=train_df, x=\"gender\", hue='credit', ax=ax2)\n",
        "plt.show()"
      ]
    },
    {
      "cell_type": "markdown",
      "metadata": {
        "id": "9e6zxSfWBy9N"
      },
      "source": [
        "### 2. car"
      ]
    },
    {
      "cell_type": "code",
      "execution_count": null,
      "metadata": {
        "colab": {
          "base_uri": "https://localhost:8080/",
          "height": 388
        },
        "id": "FWaMKPXNAboK",
        "outputId": "666c8ff0-164a-4038-a7c5-c6b3d6eb1365"
      },
      "outputs": [
        {
          "output_type": "display_data",
          "data": {
            "text/plain": [
              "<Figure size 1080x432 with 2 Axes>"
            ],
            "image/png": "[encoded data removed]"
          },
          "metadata": {
            "needs_background": "light"
          }
        }
      ],
      "source": [
        "fig = plt.figure(figsize=(15,6))\n",
        "ax1 = plt.subplot(1,2,1)\n",
        "sns.countplot(data=train_df, x=\"car\", ax=ax1)\n",
        "ax2 = plt.subplot(1,2,2)\n",
        "sns.countplot(data=train_df, x=\"car\", hue='credit', ax=ax2)\n",
        "plt.show()"
      ]
    },
    {
      "cell_type": "markdown",
      "metadata": {
        "id": "O_Ui-OU7C9pu"
      },
      "source": [
        "### 3. reality"
      ]
    },
    {
      "cell_type": "code",
      "execution_count": null,
      "metadata": {
        "colab": {
          "base_uri": "https://localhost:8080/",
          "height": 388
        },
        "id": "8iHM_R-nCxZY",
        "outputId": "50b87132-820b-47b4-9d27-34144a7bae51"
      },
      "outputs": [
        {
          "output_type": "display_data",
          "data": {
            "text/plain": [
              "<Figure size 1080x432 with 2 Axes>"
            ],
            "image/png": "[encoded data removed]"
          },
          "metadata": {
            "needs_background": "light"
          }
        }
      ],
      "source": [
        "fig = plt.figure(figsize=(15,6))\n",
        "ax1 = plt.subplot(1,2,1)\n",
        "sns.countplot(data=train_df, x=\"reality\", ax=ax1)\n",
        "ax2 = plt.subplot(1,2,2)\n",
        "sns.countplot(data=train_df, x=\"reality\", hue='credit', ax=ax2)\n",
        "plt.show()"
      ]
    },
    {
      "cell_type": "markdown",
      "metadata": {
        "id": "TlvRWQvcDDoQ"
      },
      "source": [
        "### 4. child_num"
      ]
    },
    {
      "cell_type": "code",
      "execution_count": null,
      "metadata": {
        "colab": {
          "base_uri": "https://localhost:8080/"
        },
        "id": "NcyqzNS4HcC7",
        "outputId": "32497ff3-8744-451f-e82d-6d4d51f9d4b7"
      },
      "outputs": [
        {
          "output_type": "execute_result",
          "data": {
            "text/plain": [
              "array([ 0,  1,  2,  3,  4,  5, 14, 19,  7])"
            ]
          },
          "metadata": {},
          "execution_count": 14
        }
      ],
      "source": [
        "train_df['child_num'].unique()"
      ]
    },
    {
      "cell_type": "code",
      "execution_count": null,
      "metadata": {
        "colab": {
          "base_uri": "https://localhost:8080/",
          "height": 389
        },
        "id": "hGhLnr9xDnik",
        "outputId": "623e9826-8009-4cc1-b48d-c7ea4714ba8c"
      },
      "outputs": [
        {
          "output_type": "display_data",
          "data": {
            "text/plain": [
              "<Figure size 1080x432 with 2 Axes>"
            ],
            "image/png": "[encoded data removed]"
          },
          "metadata": {
            "needs_background": "light"
          }
        }
      ],
      "source": [
        "fig = plt.figure(figsize=(15,6))\n",
        "ax1 = plt.subplot(1,2,1)\n",
        "sns.countplot(data=train_df, x=\"child_num\", ax=ax1)\n",
        "ax2 = plt.subplot(1,2,2)\n",
        "sns.countplot(data=train_df, x=\"child_num\", hue='credit', ax=ax2)\n",
        "plt.show()"
      ]
    },
    {
      "cell_type": "code",
      "execution_count": null,
      "metadata": {
        "colab": {
          "base_uri": "https://localhost:8080/",
          "height": 197
        },
        "id": "c4hrmRT7Cxil",
        "outputId": "a225d46a-6f24-4a39-85c0-96464624aa06"
      },
      "outputs": [
        {
          "output_type": "execute_result",
          "data": {
            "text/plain": [
              "       index gender car reality  child_num  income_total income_type  \\\n",
              "10731  10731      F   N       Y         19      112500.0     Working   \n",
              "\n",
              "                            edu_type           family_type         house_type  \\\n",
              "10731  Secondary / secondary special  Single / not married  House / apartment   \n",
              "\n",
              "       DAYS_BIRTH  DAYS_EMPLOYED  FLAG_MOBIL  work_phone  phone  email  \\\n",
              "10731      -11057          -1853           1           1      1      0   \n",
              "\n",
              "                 occyp_type  family_size  begin_month  credit  \n",
              "10731  Waiters/barmen staff         20.0         -5.0     2.0  "
            ],
            "text/html": [
              "\n",
              "  <div id=\"df-25a83a36-1456-41cd-9e5f-8da68492e518\">\n",
              "    <div class=\"colab-df-container\">\n",
              "      <div>\n",
              "<style scoped>\n",
              "    .dataframe tbody tr th:only-of-type {\n",
              "        vertical-align: middle;\n",
              "    }\n",
              "\n",
              "    .dataframe tbody tr th {\n",
              "        vertical-align: top;\n",
              "    }\n",
              "\n",
              "    .dataframe thead th {\n",
              "        text-align: right;\n",
              "    }\n",
              "</style>\n",
              "<table border=\"1\" class=\"dataframe\">\n",
              "  <thead>\n",
              "    <tr style=\"text-align: right;\">\n",
              "      <th></th>\n",
              "      <th>index</th>\n",
              "      <th>gender</th>\n",
              "      <th>car</th>\n",
              "      <th>reality</th>\n",
              "      <th>child_num</th>\n",
              "      <th>income_total</th>\n",
              "      <th>income_type</th>\n",
              "      <th>edu_type</th>\n",
              "      <th>family_type</th>\n",
              "      <th>house_type</th>\n",
              "      <th>DAYS_BIRTH</th>\n",
              "      <th>DAYS_EMPLOYED</th>\n",
              "      <th>FLAG_MOBIL</th>\n",
              "      <th>work_phone</th>\n",
              "      <th>phone</th>\n",
              "      <th>email</th>\n",
              "      <th>occyp_type</th>\n",
              "      <th>family_size</th>\n",
              "      <th>begin_month</th>\n",
              "      <th>credit</th>\n",
              "    </tr>\n",
              "  </thead>\n",
              "  <tbody>\n",
              "    <tr>\n",
              "      <th>10731</th>\n",
              "      <td>10731</td>\n",
              "      <td>F</td>\n",
              "      <td>N</td>\n",
              "      <td>Y</td>\n",
              "      <td>19</td>\n",
              "      <td>112500.0</td>\n",
              "      <td>Working</td>\n",
              "      <td>Secondary / secondary special</td>\n",
              "      <td>Single / not married</td>\n",
              "      <td>House / apartment</td>\n",
              "      <td>-11057</td>\n",
              "      <td>-1853</td>\n",
              "      <td>1</td>\n",
              "      <td>1</td>\n",
              "      <td>1</td>\n",
              "      <td>0</td>\n",
              "      <td>Waiters/barmen staff</td>\n",
              "      <td>20.0</td>\n",
              "      <td>-5.0</td>\n",
              "      <td>2.0</td>\n",
              "    </tr>\n",
              "  </tbody>\n",
              "</table>\n",
              "</div>\n",
              "      <button class=\"colab-df-convert\" onclick=\"convertToInteractive('df-25a83a36-1456-41cd-9e5f-8da68492e518')\"\n",
              "              title=\"Convert this dataframe to an interactive table.\"\n",
              "              style=\"display:none;\">\n",
              "        \n",
              "  <svg xmlns=\"http://www.w3.org/2000/svg\" height=\"24px\"viewBox=\"0 0 24 24\"\n",
              "       width=\"24px\">\n",
              "    <path d=\"M0 0h24v24H0V0z\" fill=\"none\"/>\n",
              "    <path d=\"M18.56 5.44l.94 2.06.94-2.06 2.06-.94-2.06-.94-.94-2.06-.94 2.06-2.06.94zm-11 1L8.5 8.5l.94-2.06 2.06-.94-2.06-.94L8.5 2.5l-.94 2.06-2.06.94zm10 10l.94 2.06.94-2.06 2.06-.94-2.06-.94-.94-2.06-.94 2.06-2.06.94z\"/><path d=\"M17.41 7.96l-1.37-1.37c-.4-.4-.92-.59-1.43-.59-.52 0-1.04.2-1.43.59L10.3 9.45l-7.72 7.72c-.78.78-.78 2.05 0 2.83L4 21.41c.39.39.9.59 1.41.59.51 0 1.02-.2 1.41-.59l7.78-7.78 2.81-2.81c.8-.78.8-2.07 0-2.86zM5.41 20L4 18.59l7.72-7.72 1.47 1.35L5.41 20z\"/>\n",
              "  </svg>\n",
              "      </button>\n",
              "      \n",
              "  <style>\n",
              "    .colab-df-container {\n",
              "      display:flex;\n",
              "      flex-wrap:wrap;\n",
              "      gap: 12px;\n",
              "    }\n",
              "\n",
              "    .colab-df-convert {\n",
              "      background-color: #E8F0FE;\n",
              "      border: none;\n",
              "      border-radius: 50%;\n",
              "      cursor: pointer;\n",
              "      display: none;\n",
              "      fill: #1967D2;\n",
              "      height: 32px;\n",
              "      padding: 0 0 0 0;\n",
              "      width: 32px;\n",
              "    }\n",
              "\n",
              "    .colab-df-convert:hover {\n",
              "      background-color: #E2EBFA;\n",
              "      box-shadow: 0px 1px 2px rgba(60, 64, 67, 0.3), 0px 1px 3px 1px rgba(60, 64, 67, 0.15);\n",
              "      fill: #174EA6;\n",
              "    }\n",
              "\n",
              "    [theme=dark] .colab-df-convert {\n",
              "      background-color: #3B4455;\n",
              "      fill: #D2E3FC;\n",
              "    }\n",
              "\n",
              "    [theme=dark] .colab-df-convert:hover {\n",
              "      background-color: #434B5C;\n",
              "      box-shadow: 0px 1px 3px 1px rgba(0, 0, 0, 0.15);\n",
              "      filter: drop-shadow(0px 1px 2px rgba(0, 0, 0, 0.3));\n",
              "      fill: #FFFFFF;\n",
              "    }\n",
              "  </style>\n",
              "\n",
              "      <script>\n",
              "        const buttonEl =\n",
              "          document.querySelector('#df-25a83a36-1456-41cd-9e5f-8da68492e518 button.colab-df-convert');\n",
              "        buttonEl.style.display =\n",
              "          google.colab.kernel.accessAllowed ? 'block' : 'none';\n",
              "\n",
              "        async function convertToInteractive(key) {\n",
              "          const element = document.querySelector('#df-25a83a36-1456-41cd-9e5f-8da68492e518');\n",
              "          const dataTable =\n",
              "            await google.colab.kernel.invokeFunction('convertToInteractive',\n",
              "                                                     [key], {});\n",
              "          if (!dataTable) return;\n",
              "\n",
              "          const docLinkHtml = 'Like what you see? Visit the ' +\n",
              "            '<a target=\"_blank\" href=https://colab.research.google.com/notebooks/data_table.ipynb>data table notebook</a>'\n",
              "            + ' to learn more about interactive tables.';\n",
              "          element.innerHTML = '';\n",
              "          dataTable['output_type'] = 'display_data';\n",
              "          await google.colab.output.renderOutput(dataTable, element);\n",
              "          const docLink = document.createElement('div');\n",
              "          docLink.innerHTML = docLinkHtml;\n",
              "          element.appendChild(docLink);\n",
              "        }\n",
              "      </script>\n",
              "    </div>\n",
              "  </div>\n",
              "  "
            ]
          },
          "metadata": {},
          "execution_count": 16
        }
      ],
      "source": [
        "# 자녀 수가 19, 14, 7명???\n",
        "train_df[train_df['child_num']==19]"
      ]
    },
    {
      "cell_type": "code",
      "execution_count": null,
      "metadata": {
        "colab": {
          "base_uri": "https://localhost:8080/",
          "height": 364
        },
        "id": "FeENsKPKCxm6",
        "outputId": "c1406c5b-c48e-4a5f-fc95-fdb2900cbd3c"
      },
      "outputs": [
        {
          "output_type": "execute_result",
          "data": {
            "text/plain": [
              "       index gender car reality  child_num  income_total income_type  \\\n",
              "8462    8462      M   Y       Y         14      225000.0     Working   \n",
              "9021    9021      M   Y       Y         14      225000.0     Working   \n",
              "25390  25390      M   Y       Y         14      225000.0     Working   \n",
              "\n",
              "                            edu_type family_type         house_type  \\\n",
              "8462   Secondary / secondary special   Separated  House / apartment   \n",
              "9021   Secondary / secondary special   Separated  House / apartment   \n",
              "25390  Secondary / secondary special   Separated  House / apartment   \n",
              "\n",
              "       DAYS_BIRTH  DAYS_EMPLOYED  FLAG_MOBIL  work_phone  phone  email  \\\n",
              "8462       -17754          -1689           1           0      0      0   \n",
              "9021       -17754          -1689           1           0      0      0   \n",
              "25390      -17754          -1689           1           0      0      0   \n",
              "\n",
              "      occyp_type  family_size  begin_month  credit  \n",
              "8462     Drivers         15.0         -7.0     2.0  \n",
              "9021     Drivers         15.0        -58.0     2.0  \n",
              "25390    Drivers         15.0        -43.0     2.0  "
            ],
            "text/html": [
              "\n",
              "  <div id=\"df-dd29a30b-9252-4341-9178-e12c596d5c6c\">\n",
              "    <div class=\"colab-df-container\">\n",
              "      <div>\n",
              "<style scoped>\n",
              "    .dataframe tbody tr th:only-of-type {\n",
              "        vertical-align: middle;\n",
              "    }\n",
              "\n",
              "    .dataframe tbody tr th {\n",
              "        vertical-align: top;\n",
              "    }\n",
              "\n",
              "    .dataframe thead th {\n",
              "        text-align: right;\n",
              "    }\n",
              "</style>\n",
              "<table border=\"1\" class=\"dataframe\">\n",
              "  <thead>\n",
              "    <tr style=\"text-align: right;\">\n",
              "      <th></th>\n",
              "      <th>index</th>\n",
              "      <th>gender</th>\n",
              "      <th>car</th>\n",
              "      <th>reality</th>\n",
              "      <th>child_num</th>\n",
              "      <th>income_total</th>\n",
              "      <th>income_type</th>\n",
              "      <th>edu_type</th>\n",
              "      <th>family_type</th>\n",
              "      <th>house_type</th>\n",
              "      <th>DAYS_BIRTH</th>\n",
              "      <th>DAYS_EMPLOYED</th>\n",
              "      <th>FLAG_MOBIL</th>\n",
              "      <th>work_phone</th>\n",
              "      <th>phone</th>\n",
              "      <th>email</th>\n",
              "      <th>occyp_type</th>\n",
              "      <th>family_size</th>\n",
              "      <th>begin_month</th>\n",
              "      <th>credit</th>\n",
              "    </tr>\n",
              "  </thead>\n",
              "  <tbody>\n",
              "    <tr>\n",
              "      <th>8462</th>\n",
              "      <td>8462</td>\n",
              "      <td>M</td>\n",
              "      <td>Y</td>\n",
              "      <td>Y</td>\n",
              "      <td>14</td>\n",
              "      <td>225000.0</td>\n",
              "      <td>Working</td>\n",
              "      <td>Secondary / secondary special</td>\n",
              "      <td>Separated</td>\n",
              "      <td>House / apartment</td>\n",
              "      <td>-17754</td>\n",
              "      <td>-1689</td>\n",
              "      <td>1</td>\n",
              "      <td>0</td>\n",
              "      <td>0</td>\n",
              "      <td>0</td>\n",
              "      <td>Drivers</td>\n",
              "      <td>15.0</td>\n",
              "      <td>-7.0</td>\n",
              "      <td>2.0</td>\n",
              "    </tr>\n",
              "    <tr>\n",
              "      <th>9021</th>\n",
              "      <td>9021</td>\n",
              "      <td>M</td>\n",
              "      <td>Y</td>\n",
              "      <td>Y</td>\n",
              "      <td>14</td>\n",
              "      <td>225000.0</td>\n",
              "      <td>Working</td>\n",
              "      <td>Secondary / secondary special</td>\n",
              "      <td>Separated</td>\n",
              "      <td>House / apartment</td>\n",
              "      <td>-17754</td>\n",
              "      <td>-1689</td>\n",
              "      <td>1</td>\n",
              "      <td>0</td>\n",
              "      <td>0</td>\n",
              "      <td>0</td>\n",
              "      <td>Drivers</td>\n",
              "      <td>15.0</td>\n",
              "      <td>-58.0</td>\n",
              "      <td>2.0</td>\n",
              "    </tr>\n",
              "    <tr>\n",
              "      <th>25390</th>\n",
              "      <td>25390</td>\n",
              "      <td>M</td>\n",
              "      <td>Y</td>\n",
              "      <td>Y</td>\n",
              "      <td>14</td>\n",
              "      <td>225000.0</td>\n",
              "      <td>Working</td>\n",
              "      <td>Secondary / secondary special</td>\n",
              "      <td>Separated</td>\n",
              "      <td>House / apartment</td>\n",
              "      <td>-17754</td>\n",
              "      <td>-1689</td>\n",
              "      <td>1</td>\n",
              "      <td>0</td>\n",
              "      <td>0</td>\n",
              "      <td>0</td>\n",
              "      <td>Drivers</td>\n",
              "      <td>15.0</td>\n",
              "      <td>-43.0</td>\n",
              "      <td>2.0</td>\n",
              "    </tr>\n",
              "  </tbody>\n",
              "</table>\n",
              "</div>\n",
              "      <button class=\"colab-df-convert\" onclick=\"convertToInteractive('df-dd29a30b-9252-4341-9178-e12c596d5c6c')\"\n",
              "              title=\"Convert this dataframe to an interactive table.\"\n",
              "              style=\"display:none;\">\n",
              "        \n",
              "  <svg xmlns=\"http://www.w3.org/2000/svg\" height=\"24px\"viewBox=\"0 0 24 24\"\n",
              "       width=\"24px\">\n",
              "    <path d=\"M0 0h24v24H0V0z\" fill=\"none\"/>\n",
              "    <path d=\"M18.56 5.44l.94 2.06.94-2.06 2.06-.94-2.06-.94-.94-2.06-.94 2.06-2.06.94zm-11 1L8.5 8.5l.94-2.06 2.06-.94-2.06-.94L8.5 2.5l-.94 2.06-2.06.94zm10 10l.94 2.06.94-2.06 2.06-.94-2.06-.94-.94-2.06-.94 2.06-2.06.94z\"/><path d=\"M17.41 7.96l-1.37-1.37c-.4-.4-.92-.59-1.43-.59-.52 0-1.04.2-1.43.59L10.3 9.45l-7.72 7.72c-.78.78-.78 2.05 0 2.83L4 21.41c.39.39.9.59 1.41.59.51 0 1.02-.2 1.41-.59l7.78-7.78 2.81-2.81c.8-.78.8-2.07 0-2.86zM5.41 20L4 18.59l7.72-7.72 1.47 1.35L5.41 20z\"/>\n",
              "  </svg>\n",
              "      </button>\n",
              "      \n",
              "  <style>\n",
              "    .colab-df-container {\n",
              "      display:flex;\n",
              "      flex-wrap:wrap;\n",
              "      gap: 12px;\n",
              "    }\n",
              "\n",
              "    .colab-df-convert {\n",
              "      background-color: #E8F0FE;\n",
              "      border: none;\n",
              "      border-radius: 50%;\n",
              "      cursor: pointer;\n",
              "      display: none;\n",
              "      fill: #1967D2;\n",
              "      height: 32px;\n",
              "      padding: 0 0 0 0;\n",
              "      width: 32px;\n",
              "    }\n",
              "\n",
              "    .colab-df-convert:hover {\n",
              "      background-color: #E2EBFA;\n",
              "      box-shadow: 0px 1px 2px rgba(60, 64, 67, 0.3), 0px 1px 3px 1px rgba(60, 64, 67, 0.15);\n",
              "      fill: #174EA6;\n",
              "    }\n",
              "\n",
              "    [theme=dark] .colab-df-convert {\n",
              "      background-color: #3B4455;\n",
              "      fill: #D2E3FC;\n",
              "    }\n",
              "\n",
              "    [theme=dark] .colab-df-convert:hover {\n",
              "      background-color: #434B5C;\n",
              "      box-shadow: 0px 1px 3px 1px rgba(0, 0, 0, 0.15);\n",
              "      filter: drop-shadow(0px 1px 2px rgba(0, 0, 0, 0.3));\n",
              "      fill: #FFFFFF;\n",
              "    }\n",
              "  </style>\n",
              "\n",
              "      <script>\n",
              "        const buttonEl =\n",
              "          document.querySelector('#df-dd29a30b-9252-4341-9178-e12c596d5c6c button.colab-df-convert');\n",
              "        buttonEl.style.display =\n",
              "          google.colab.kernel.accessAllowed ? 'block' : 'none';\n",
              "\n",
              "        async function convertToInteractive(key) {\n",
              "          const element = document.querySelector('#df-dd29a30b-9252-4341-9178-e12c596d5c6c');\n",
              "          const dataTable =\n",
              "            await google.colab.kernel.invokeFunction('convertToInteractive',\n",
              "                                                     [key], {});\n",
              "          if (!dataTable) return;\n",
              "\n",
              "          const docLinkHtml = 'Like what you see? Visit the ' +\n",
              "            '<a target=\"_blank\" href=https://colab.research.google.com/notebooks/data_table.ipynb>data table notebook</a>'\n",
              "            + ' to learn more about interactive tables.';\n",
              "          element.innerHTML = '';\n",
              "          dataTable['output_type'] = 'display_data';\n",
              "          await google.colab.output.renderOutput(dataTable, element);\n",
              "          const docLink = document.createElement('div');\n",
              "          docLink.innerHTML = docLinkHtml;\n",
              "          element.appendChild(docLink);\n",
              "        }\n",
              "      </script>\n",
              "    </div>\n",
              "  </div>\n",
              "  "
            ]
          },
          "metadata": {},
          "execution_count": 17
        }
      ],
      "source": [
        "train_df[train_df['child_num']==14]"
      ]
    },
    {
      "cell_type": "code",
      "execution_count": null,
      "metadata": {
        "colab": {
          "base_uri": "https://localhost:8080/",
          "height": 280
        },
        "id": "qmbsaooGF4Ow",
        "outputId": "4af2540e-6682-4dcd-a91e-8895c3bf3f8b"
      },
      "outputs": [
        {
          "output_type": "execute_result",
          "data": {
            "text/plain": [
              "       index gender car reality  child_num  income_total income_type  \\\n",
              "25313  25313      F   N       N          7      157500.0     Working   \n",
              "25638  25638      F   N       N          7      157500.0     Working   \n",
              "\n",
              "                            edu_type family_type         house_type  \\\n",
              "25313  Secondary / secondary special     Married  House / apartment   \n",
              "25638  Secondary / secondary special     Married  House / apartment   \n",
              "\n",
              "       DAYS_BIRTH  DAYS_EMPLOYED  FLAG_MOBIL  work_phone  phone  email  \\\n",
              "25313      -13827          -1649           1           1      1      0   \n",
              "25638      -13827          -1649           1           1      1      0   \n",
              "\n",
              "           occyp_type  family_size  begin_month  credit  \n",
              "25313  Cleaning staff          9.0        -26.0     2.0  \n",
              "25638  Cleaning staff          9.0        -31.0     2.0  "
            ],
            "text/html": [
              "\n",
              "  <div id=\"df-6dc68703-6d93-4c93-b763-4399731b4c1e\">\n",
              "    <div class=\"colab-df-container\">\n",
              "      <div>\n",
              "<style scoped>\n",
              "    .dataframe tbody tr th:only-of-type {\n",
              "        vertical-align: middle;\n",
              "    }\n",
              "\n",
              "    .dataframe tbody tr th {\n",
              "        vertical-align: top;\n",
              "    }\n",
              "\n",
              "    .dataframe thead th {\n",
              "        text-align: right;\n",
              "    }\n",
              "</style>\n",
              "<table border=\"1\" class=\"dataframe\">\n",
              "  <thead>\n",
              "    <tr style=\"text-align: right;\">\n",
              "      <th></th>\n",
              "      <th>index</th>\n",
              "      <th>gender</th>\n",
              "      <th>car</th>\n",
              "      <th>reality</th>\n",
              "      <th>child_num</th>\n",
              "      <th>income_total</th>\n",
              "      <th>income_type</th>\n",
              "      <th>edu_type</th>\n",
              "      <th>family_type</th>\n",
              "      <th>house_type</th>\n",
              "      <th>DAYS_BIRTH</th>\n",
              "      <th>DAYS_EMPLOYED</th>\n",
              "      <th>FLAG_MOBIL</th>\n",
              "      <th>work_phone</th>\n",
              "      <th>phone</th>\n",
              "      <th>email</th>\n",
              "      <th>occyp_type</th>\n",
              "      <th>family_size</th>\n",
              "      <th>begin_month</th>\n",
              "      <th>credit</th>\n",
              "    </tr>\n",
              "  </thead>\n",
              "  <tbody>\n",
              "    <tr>\n",
              "      <th>25313</th>\n",
              "      <td>25313</td>\n",
              "      <td>F</td>\n",
              "      <td>N</td>\n",
              "      <td>N</td>\n",
              "      <td>7</td>\n",
              "      <td>157500.0</td>\n",
              "      <td>Working</td>\n",
              "      <td>Secondary / secondary special</td>\n",
              "      <td>Married</td>\n",
              "      <td>House / apartment</td>\n",
              "      <td>-13827</td>\n",
              "      <td>-1649</td>\n",
              "      <td>1</td>\n",
              "      <td>1</td>\n",
              "      <td>1</td>\n",
              "      <td>0</td>\n",
              "      <td>Cleaning staff</td>\n",
              "      <td>9.0</td>\n",
              "      <td>-26.0</td>\n",
              "      <td>2.0</td>\n",
              "    </tr>\n",
              "    <tr>\n",
              "      <th>25638</th>\n",
              "      <td>25638</td>\n",
              "      <td>F</td>\n",
              "      <td>N</td>\n",
              "      <td>N</td>\n",
              "      <td>7</td>\n",
              "      <td>157500.0</td>\n",
              "      <td>Working</td>\n",
              "      <td>Secondary / secondary special</td>\n",
              "      <td>Married</td>\n",
              "      <td>House / apartment</td>\n",
              "      <td>-13827</td>\n",
              "      <td>-1649</td>\n",
              "      <td>1</td>\n",
              "      <td>1</td>\n",
              "      <td>1</td>\n",
              "      <td>0</td>\n",
              "      <td>Cleaning staff</td>\n",
              "      <td>9.0</td>\n",
              "      <td>-31.0</td>\n",
              "      <td>2.0</td>\n",
              "    </tr>\n",
              "  </tbody>\n",
              "</table>\n",
              "</div>\n",
              "      <button class=\"colab-df-convert\" onclick=\"convertToInteractive('df-6dc68703-6d93-4c93-b763-4399731b4c1e')\"\n",
              "              title=\"Convert this dataframe to an interactive table.\"\n",
              "              style=\"display:none;\">\n",
              "        \n",
              "  <svg xmlns=\"http://www.w3.org/2000/svg\" height=\"24px\"viewBox=\"0 0 24 24\"\n",
              "       width=\"24px\">\n",
              "    <path d=\"M0 0h24v24H0V0z\" fill=\"none\"/>\n",
              "    <path d=\"M18.56 5.44l.94 2.06.94-2.06 2.06-.94-2.06-.94-.94-2.06-.94 2.06-2.06.94zm-11 1L8.5 8.5l.94-2.06 2.06-.94-2.06-.94L8.5 2.5l-.94 2.06-2.06.94zm10 10l.94 2.06.94-2.06 2.06-.94-2.06-.94-.94-2.06-.94 2.06-2.06.94z\"/><path d=\"M17.41 7.96l-1.37-1.37c-.4-.4-.92-.59-1.43-.59-.52 0-1.04.2-1.43.59L10.3 9.45l-7.72 7.72c-.78.78-.78 2.05 0 2.83L4 21.41c.39.39.9.59 1.41.59.51 0 1.02-.2 1.41-.59l7.78-7.78 2.81-2.81c.8-.78.8-2.07 0-2.86zM5.41 20L4 18.59l7.72-7.72 1.47 1.35L5.41 20z\"/>\n",
              "  </svg>\n",
              "      </button>\n",
              "      \n",
              "  <style>\n",
              "    .colab-df-container {\n",
              "      display:flex;\n",
              "      flex-wrap:wrap;\n",
              "      gap: 12px;\n",
              "    }\n",
              "\n",
              "    .colab-df-convert {\n",
              "      background-color: #E8F0FE;\n",
              "      border: none;\n",
              "      border-radius: 50%;\n",
              "      cursor: pointer;\n",
              "      display: none;\n",
              "      fill: #1967D2;\n",
              "      height: 32px;\n",
              "      padding: 0 0 0 0;\n",
              "      width: 32px;\n",
              "    }\n",
              "\n",
              "    .colab-df-convert:hover {\n",
              "      background-color: #E2EBFA;\n",
              "      box-shadow: 0px 1px 2px rgba(60, 64, 67, 0.3), 0px 1px 3px 1px rgba(60, 64, 67, 0.15);\n",
              "      fill: #174EA6;\n",
              "    }\n",
              "\n",
              "    [theme=dark] .colab-df-convert {\n",
              "      background-color: #3B4455;\n",
              "      fill: #D2E3FC;\n",
              "    }\n",
              "\n",
              "    [theme=dark] .colab-df-convert:hover {\n",
              "      background-color: #434B5C;\n",
              "      box-shadow: 0px 1px 3px 1px rgba(0, 0, 0, 0.15);\n",
              "      filter: drop-shadow(0px 1px 2px rgba(0, 0, 0, 0.3));\n",
              "      fill: #FFFFFF;\n",
              "    }\n",
              "  </style>\n",
              "\n",
              "      <script>\n",
              "        const buttonEl =\n",
              "          document.querySelector('#df-6dc68703-6d93-4c93-b763-4399731b4c1e button.colab-df-convert');\n",
              "        buttonEl.style.display =\n",
              "          google.colab.kernel.accessAllowed ? 'block' : 'none';\n",
              "\n",
              "        async function convertToInteractive(key) {\n",
              "          const element = document.querySelector('#df-6dc68703-6d93-4c93-b763-4399731b4c1e');\n",
              "          const dataTable =\n",
              "            await google.colab.kernel.invokeFunction('convertToInteractive',\n",
              "                                                     [key], {});\n",
              "          if (!dataTable) return;\n",
              "\n",
              "          const docLinkHtml = 'Like what you see? Visit the ' +\n",
              "            '<a target=\"_blank\" href=https://colab.research.google.com/notebooks/data_table.ipynb>data table notebook</a>'\n",
              "            + ' to learn more about interactive tables.';\n",
              "          element.innerHTML = '';\n",
              "          dataTable['output_type'] = 'display_data';\n",
              "          await google.colab.output.renderOutput(dataTable, element);\n",
              "          const docLink = document.createElement('div');\n",
              "          docLink.innerHTML = docLinkHtml;\n",
              "          element.appendChild(docLink);\n",
              "        }\n",
              "      </script>\n",
              "    </div>\n",
              "  </div>\n",
              "  "
            ]
          },
          "metadata": {},
          "execution_count": 18
        }
      ],
      "source": [
        "train_df[train_df['child_num']==7]"
      ]
    },
    {
      "cell_type": "code",
      "execution_count": null,
      "metadata": {
        "colab": {
          "base_uri": "https://localhost:8080/",
          "height": 389
        },
        "id": "0o2aSIQDQHBR",
        "outputId": "624cb813-8f20-47ae-bc5b-10266180dbbc"
      },
      "outputs": [
        {
          "output_type": "display_data",
          "data": {
            "text/plain": [
              "<Figure size 1080x432 with 2 Axes>"
            ],
            "image/png": "[encoded data removed]"
          },
          "metadata": {
            "needs_background": "light"
          }
        }
      ],
      "source": [
        "# 자녀가 5명 이상인 row에 대한 분포\n",
        "man_child = train_df[train_df['child_num'] >= 5]\n",
        "\n",
        "fig = plt.figure(figsize=(15,6))\n",
        "ax1 = plt.subplot(1,2,1)\n",
        "sns.countplot(data=man_child, x=\"child_num\", ax=ax1)\n",
        "ax2 = plt.subplot(1,2,2)\n",
        "sns.countplot(data=man_child, x=\"child_num\", hue='credit', ax=ax2)\n",
        "plt.show()"
      ]
    },
    {
      "cell_type": "markdown",
      "metadata": {
        "id": "j4TzHVhUHGeL"
      },
      "source": [
        "### 5. income_total"
      ]
    },
    {
      "cell_type": "code",
      "execution_count": null,
      "metadata": {
        "colab": {
          "base_uri": "https://localhost:8080/",
          "height": 400
        },
        "id": "_P5vPxxXHFdz",
        "outputId": "69e74795-a8ba-4a56-a35a-9baf42dd5041"
      },
      "outputs": [
        {
          "output_type": "display_data",
          "data": {
            "text/plain": [
              "<Figure size 1080x432 with 2 Axes>"
            ],
            "image/png": "[encoded data removed]"
          },
          "metadata": {
            "needs_background": "light"
          }
        }
      ],
      "source": [
        "fig = plt.figure(figsize=(15,6))\n",
        "ax1 = plt.subplot(1,2,1)\n",
        "sns.kdeplot(data=train_df, x=\"income_total\", ax=ax1,)\n",
        "ax2 = plt.subplot(1,2,2)\n",
        "sns.kdeplot(data=train_df, x=\"income_total\", hue='credit', ax=ax2)\n",
        "plt.show()"
      ]
    },
    {
      "cell_type": "markdown",
      "metadata": {
        "id": "Gjej1ePLHSeJ"
      },
      "source": [
        "### 6. income_type"
      ]
    },
    {
      "cell_type": "code",
      "execution_count": null,
      "metadata": {
        "colab": {
          "base_uri": "https://localhost:8080/"
        },
        "id": "7kNKHfLfHVoO",
        "outputId": "d18ae6e6-cea2-422c-9e0d-6052a1bc1b95"
      },
      "outputs": [
        {
          "output_type": "execute_result",
          "data": {
            "text/plain": [
              "array(['Commercial associate', 'Working', 'State servant', 'Pensioner',\n",
              "       'Student'], dtype=object)"
            ]
          },
          "metadata": {},
          "execution_count": 22
        }
      ],
      "source": [
        "train_df['income_type'].unique()"
      ]
    },
    {
      "cell_type": "code",
      "execution_count": null,
      "metadata": {
        "colab": {
          "base_uri": "https://localhost:8080/",
          "height": 389
        },
        "id": "t115M51mHVtQ",
        "outputId": "c04dbd95-8094-4183-cb65-c5667d8ad2dc"
      },
      "outputs": [
        {
          "output_type": "display_data",
          "data": {
            "text/plain": [
              "<Figure size 1080x432 with 2 Axes>"
            ],
            "image/png": "[encoded data removed]"
          },
          "metadata": {
            "needs_background": "light"
          }
        }
      ],
      "source": [
        "fig = plt.figure(figsize=(15,6))\n",
        "ax1 = plt.subplot(1,2,1)\n",
        "sns.countplot(data=train_df, x=\"income_type\", ax=ax1)\n",
        "ax2 = plt.subplot(1,2,2)\n",
        "sns.countplot(data=train_df, x=\"income_type\", hue='credit', ax=ax2)\n",
        "plt.show()"
      ]
    },
    {
      "cell_type": "code",
      "execution_count": null,
      "metadata": {
        "colab": {
          "base_uri": "https://localhost:8080/"
        },
        "id": "lfym-NDGHVy5",
        "outputId": "66d2a65e-4a4b-45e1-d073-aab9d810e0ab"
      },
      "outputs": [
        {
          "output_type": "execute_result",
          "data": {
            "text/plain": [
              "Working                 13645\n",
              "Commercial associate     6202\n",
              "Pensioner                4449\n",
              "State servant            2154\n",
              "Student                     7\n",
              "Name: income_type, dtype: int64"
            ]
          },
          "metadata": {},
          "execution_count": 24
        }
      ],
      "source": [
        "train_df['income_type'].value_counts()"
      ]
    },
    {
      "cell_type": "markdown",
      "metadata": {
        "id": "MnnTbwjvH-kK"
      },
      "source": [
        "### 7. edu_type"
      ]
    },
    {
      "cell_type": "code",
      "execution_count": null,
      "metadata": {
        "colab": {
          "base_uri": "https://localhost:8080/"
        },
        "id": "I2Y5jy4ZICG9",
        "outputId": "b90f3371-2dbc-4d06-cbb4-ad8187b9143d"
      },
      "outputs": [
        {
          "output_type": "execute_result",
          "data": {
            "text/plain": [
              "array(['Higher education', 'Secondary / secondary special',\n",
              "       'Incomplete higher', 'Lower secondary', 'Academic degree'],\n",
              "      dtype=object)"
            ]
          },
          "metadata": {},
          "execution_count": 25
        }
      ],
      "source": [
        "train_df['edu_type'].unique()"
      ]
    },
    {
      "cell_type": "code",
      "execution_count": null,
      "metadata": {
        "colab": {
          "base_uri": "https://localhost:8080/",
          "height": 494
        },
        "id": "_jVQju-7IEf1",
        "outputId": "998e8068-f7ba-46d5-f4f8-64e071771d8c"
      },
      "outputs": [
        {
          "output_type": "display_data",
          "data": {
            "text/plain": [
              "<Figure size 1080x432 with 2 Axes>"
            ],
            "image/png": "[encoded data removed]"
          },
          "metadata": {
            "needs_background": "light"
          }
        }
      ],
      "source": [
        "fig = plt.figure(figsize=(15,6))\n",
        "ax1 = plt.subplot(1,2,1)\n",
        "sns.countplot(data=train_df, x=\"edu_type\", ax=ax1)\n",
        "plt.xticks(rotation=45)\n",
        "ax2 = plt.subplot(1,2,2)\n",
        "sns.countplot(data=train_df, x=\"edu_type\", hue='credit', ax=ax2)\n",
        "plt.xticks(rotation=45)\n",
        "plt.show()"
      ]
    },
    {
      "cell_type": "code",
      "execution_count": null,
      "metadata": {
        "colab": {
          "base_uri": "https://localhost:8080/"
        },
        "id": "t49y-8kBIEj4",
        "outputId": "9e4def7c-00af-4b41-c892-f31118edf16b"
      },
      "outputs": [
        {
          "output_type": "execute_result",
          "data": {
            "text/plain": [
              "Secondary / secondary special    17995\n",
              "Higher education                  7162\n",
              "Incomplete higher                 1020\n",
              "Lower secondary                    257\n",
              "Academic degree                     23\n",
              "Name: edu_type, dtype: int64"
            ]
          },
          "metadata": {},
          "execution_count": 27
        }
      ],
      "source": [
        "train_df['edu_type'].value_counts()"
      ]
    },
    {
      "cell_type": "markdown",
      "metadata": {
        "id": "30cQuSnNILRG"
      },
      "source": [
        "### 8. family_type"
      ]
    },
    {
      "cell_type": "code",
      "execution_count": null,
      "metadata": {
        "colab": {
          "base_uri": "https://localhost:8080/"
        },
        "id": "cEZcueFBIEoF",
        "outputId": "178c85d5-c00b-4dd5-aeb3-1d8a348c5ed7"
      },
      "outputs": [
        {
          "output_type": "execute_result",
          "data": {
            "text/plain": [
              "array(['Married', 'Civil marriage', 'Separated', 'Single / not married',\n",
              "       'Widow'], dtype=object)"
            ]
          },
          "metadata": {},
          "execution_count": 28
        }
      ],
      "source": [
        "train_df['family_type'].unique()"
      ]
    },
    {
      "cell_type": "code",
      "execution_count": null,
      "metadata": {
        "colab": {
          "base_uri": "https://localhost:8080/",
          "height": 389
        },
        "id": "cD8yaqwhIEsT",
        "outputId": "219f6a96-d9fe-4b46-c456-4f5136699357"
      },
      "outputs": [
        {
          "output_type": "display_data",
          "data": {
            "text/plain": [
              "<Figure size 1080x432 with 2 Axes>"
            ],
            "image/png": "[encoded data removed]"
          },
          "metadata": {
            "needs_background": "light"
          }
        }
      ],
      "source": [
        "fig = plt.figure(figsize=(15,6))\n",
        "ax1 = plt.subplot(1,2,1)\n",
        "sns.countplot(data=train_df, x=\"family_type\", ax=ax1)\n",
        "ax2 = plt.subplot(1,2,2)\n",
        "sns.countplot(data=train_df, x=\"family_type\", hue='credit', ax=ax2)\n",
        "plt.show()"
      ]
    },
    {
      "cell_type": "markdown",
      "metadata": {
        "id": "S1QFN-ZTIaeR"
      },
      "source": [
        "### 9. house_type"
      ]
    },
    {
      "cell_type": "code",
      "execution_count": null,
      "metadata": {
        "colab": {
          "base_uri": "https://localhost:8080/"
        },
        "id": "GlPcdis-If2u",
        "outputId": "09e0e007-5f93-4167-ae72-ce0a3814d46d"
      },
      "outputs": [
        {
          "output_type": "execute_result",
          "data": {
            "text/plain": [
              "array(['Municipal apartment', 'House / apartment', 'With parents',\n",
              "       'Co-op apartment', 'Rented apartment', 'Office apartment'],\n",
              "      dtype=object)"
            ]
          },
          "metadata": {},
          "execution_count": 30
        }
      ],
      "source": [
        "train_df['house_type'].unique()"
      ]
    },
    {
      "cell_type": "code",
      "execution_count": null,
      "metadata": {
        "colab": {
          "base_uri": "https://localhost:8080/",
          "height": 459
        },
        "id": "ah2qxXhQIf7J",
        "outputId": "a9ef4d33-6a3e-4a84-b247-b7703c4bcf90"
      },
      "outputs": [
        {
          "output_type": "display_data",
          "data": {
            "text/plain": [
              "<Figure size 1080x432 with 2 Axes>"
            ],
            "image/png": "[encoded data removed]"
          },
          "metadata": {
            "needs_background": "light"
          }
        }
      ],
      "source": [
        "fig = plt.figure(figsize=(15,6))\n",
        "ax1 = plt.subplot(1,2,1)\n",
        "sns.countplot(data=train_df, x=\"house_type\", ax=ax1)\n",
        "plt.xticks(rotation=45)\n",
        "ax2 = plt.subplot(1,2,2)\n",
        "sns.countplot(data=train_df, x=\"house_type\", hue='credit', ax=ax2)\n",
        "plt.xticks(rotation=45)\n",
        "plt.show()"
      ]
    },
    {
      "cell_type": "markdown",
      "metadata": {
        "id": "cSd3FpHdIz43"
      },
      "source": [
        "### 10. DAYS_BIRTH"
      ]
    },
    {
      "cell_type": "code",
      "execution_count": null,
      "metadata": {
        "colab": {
          "base_uri": "https://localhost:8080/",
          "height": 400
        },
        "id": "_xTDmlaNIzdh",
        "outputId": "20d35526-ba9f-4c1d-9150-501f46cc068b"
      },
      "outputs": [
        {
          "output_type": "display_data",
          "data": {
            "text/plain": [
              "<Figure size 1080x432 with 2 Axes>"
            ],
            "image/png": "[encoded data removed]"
          },
          "metadata": {
            "needs_background": "light"
          }
        }
      ],
      "source": [
        "fig = plt.figure(figsize=(15,6))\n",
        "ax1 = plt.subplot(1,2,1)\n",
        "sns.kdeplot(data=train_df, x=\"DAYS_BIRTH\", ax=ax1,)\n",
        "ax2 = plt.subplot(1,2,2)\n",
        "sns.kdeplot(data=train_df, x=\"DAYS_BIRTH\", hue='credit', ax=ax2)\n",
        "plt.show()"
      ]
    },
    {
      "cell_type": "markdown",
      "metadata": {
        "id": "Sd5e6RVrJAts"
      },
      "source": [
        "### 11. DAYS_EMPLOYED\n",
        "- 양수값은 고용되지 않은 상태\n",
        "- 전처리 필요"
      ]
    },
    {
      "cell_type": "code",
      "execution_count": null,
      "metadata": {
        "colab": {
          "base_uri": "https://localhost:8080/",
          "height": 400
        },
        "id": "YBWhNto_I_8g",
        "outputId": "8bdc2ea7-9661-4268-cf48-ef436ddbb9a2"
      },
      "outputs": [
        {
          "output_type": "display_data",
          "data": {
            "text/plain": [
              "<Figure size 1080x432 with 2 Axes>"
            ],
            "image/png": "[encoded data removed]"
          },
          "metadata": {
            "needs_background": "light"
          }
        }
      ],
      "source": [
        "fig = plt.figure(figsize=(15,6))\n",
        "ax1 = plt.subplot(1,2,1)\n",
        "sns.kdeplot(data=train_df, x=\"DAYS_EMPLOYED\", ax=ax1,)\n",
        "ax2 = plt.subplot(1,2,2)\n",
        "sns.kdeplot(data=train_df, x=\"DAYS_EMPLOYED\", hue='credit', ax=ax2)\n",
        "plt.show()"
      ]
    },
    {
      "cell_type": "code",
      "execution_count": null,
      "metadata": {
        "colab": {
          "base_uri": "https://localhost:8080/",
          "height": 531
        },
        "id": "rgKmiPsQJO3e",
        "outputId": "c8d3095d-2ace-46b2-cb9a-82a3a4d18db6"
      },
      "outputs": [
        {
          "output_type": "execute_result",
          "data": {
            "text/plain": [
              "    index gender car reality  child_num  income_total income_type  \\\n",
              "14     14      F   N       Y          0      157500.0   Pensioner   \n",
              "18     18      F   N       Y          0      216000.0   Pensioner   \n",
              "21     21      F   N       N          0      157500.0   Pensioner   \n",
              "24     24      F   N       N          0      202500.0   Pensioner   \n",
              "46     46      F   N       N          0      135000.0   Pensioner   \n",
              "\n",
              "                         edu_type           family_type         house_type  \\\n",
              "14  Secondary / secondary special  Single / not married  House / apartment   \n",
              "18  Secondary / secondary special               Married  House / apartment   \n",
              "21  Secondary / secondary special               Married  House / apartment   \n",
              "24  Secondary / secondary special  Single / not married  House / apartment   \n",
              "46  Secondary / secondary special                 Widow  House / apartment   \n",
              "\n",
              "    DAYS_BIRTH  DAYS_EMPLOYED  FLAG_MOBIL  work_phone  phone  email  \\\n",
              "14      -22922         365243           1           0      1      0   \n",
              "18      -23113         365243           1           0      0      0   \n",
              "21      -21253         365243           1           0      1      0   \n",
              "24      -22361         365243           1           0      1      0   \n",
              "46      -21100         365243           1           0      1      0   \n",
              "\n",
              "   occyp_type  family_size  begin_month  credit  \n",
              "14        NaN          1.0        -41.0     2.0  \n",
              "18        NaN          2.0        -37.0     2.0  \n",
              "21        NaN          2.0         -7.0     2.0  \n",
              "24        NaN          1.0         -5.0     2.0  \n",
              "46        NaN          1.0        -24.0     2.0  "
            ],
            "text/html": [
              "\n",
              "  <div id=\"df-aaadec1f-0648-4bea-99fc-c0be719784ee\">\n",
              "    <div class=\"colab-df-container\">\n",
              "      <div>\n",
              "<style scoped>\n",
              "    .dataframe tbody tr th:only-of-type {\n",
              "        vertical-align: middle;\n",
              "    }\n",
              "\n",
              "    .dataframe tbody tr th {\n",
              "        vertical-align: top;\n",
              "    }\n",
              "\n",
              "    .dataframe thead th {\n",
              "        text-align: right;\n",
              "    }\n",
              "</style>\n",
              "<table border=\"1\" class=\"dataframe\">\n",
              "  <thead>\n",
              "    <tr style=\"text-align: right;\">\n",
              "      <th></th>\n",
              "      <th>index</th>\n",
              "      <th>gender</th>\n",
              "      <th>car</th>\n",
              "      <th>reality</th>\n",
              "      <th>child_num</th>\n",
              "      <th>income_total</th>\n",
              "      <th>income_type</th>\n",
              "      <th>edu_type</th>\n",
              "      <th>family_type</th>\n",
              "      <th>house_type</th>\n",
              "      <th>DAYS_BIRTH</th>\n",
              "      <th>DAYS_EMPLOYED</th>\n",
              "      <th>FLAG_MOBIL</th>\n",
              "      <th>work_phone</th>\n",
              "      <th>phone</th>\n",
              "      <th>email</th>\n",
              "      <th>occyp_type</th>\n",
              "      <th>family_size</th>\n",
              "      <th>begin_month</th>\n",
              "      <th>credit</th>\n",
              "    </tr>\n",
              "  </thead>\n",
              "  <tbody>\n",
              "    <tr>\n",
              "      <th>14</th>\n",
              "      <td>14</td>\n",
              "      <td>F</td>\n",
              "      <td>N</td>\n",
              "      <td>Y</td>\n",
              "      <td>0</td>\n",
              "      <td>157500.0</td>\n",
              "      <td>Pensioner</td>\n",
              "      <td>Secondary / secondary special</td>\n",
              "      <td>Single / not married</td>\n",
              "      <td>House / apartment</td>\n",
              "      <td>-22922</td>\n",
              "      <td>365243</td>\n",
              "      <td>1</td>\n",
              "      <td>0</td>\n",
              "      <td>1</td>\n",
              "      <td>0</td>\n",
              "      <td>NaN</td>\n",
              "      <td>1.0</td>\n",
              "      <td>-41.0</td>\n",
              "      <td>2.0</td>\n",
              "    </tr>\n",
              "    <tr>\n",
              "      <th>18</th>\n",
              "      <td>18</td>\n",
              "      <td>F</td>\n",
              "      <td>N</td>\n",
              "      <td>Y</td>\n",
              "      <td>0</td>\n",
              "      <td>216000.0</td>\n",
              "      <td>Pensioner</td>\n",
              "      <td>Secondary / secondary special</td>\n",
              "      <td>Married</td>\n",
              "      <td>House / apartment</td>\n",
              "      <td>-23113</td>\n",
              "      <td>365243</td>\n",
              "      <td>1</td>\n",
              "      <td>0</td>\n",
              "      <td>0</td>\n",
              "      <td>0</td>\n",
              "      <td>NaN</td>\n",
              "      <td>2.0</td>\n",
              "      <td>-37.0</td>\n",
              "      <td>2.0</td>\n",
              "    </tr>\n",
              "    <tr>\n",
              "      <th>21</th>\n",
              "      <td>21</td>\n",
              "      <td>F</td>\n",
              "      <td>N</td>\n",
              "      <td>N</td>\n",
              "      <td>0</td>\n",
              "      <td>157500.0</td>\n",
              "      <td>Pensioner</td>\n",
              "      <td>Secondary / secondary special</td>\n",
              "      <td>Married</td>\n",
              "      <td>House / apartment</td>\n",
              "      <td>-21253</td>\n",
              "      <td>365243</td>\n",
              "      <td>1</td>\n",
              "      <td>0</td>\n",
              "      <td>1</td>\n",
              "      <td>0</td>\n",
              "      <td>NaN</td>\n",
              "      <td>2.0</td>\n",
              "      <td>-7.0</td>\n",
              "      <td>2.0</td>\n",
              "    </tr>\n",
              "    <tr>\n",
              "      <th>24</th>\n",
              "      <td>24</td>\n",
              "      <td>F</td>\n",
              "      <td>N</td>\n",
              "      <td>N</td>\n",
              "      <td>0</td>\n",
              "      <td>202500.0</td>\n",
              "      <td>Pensioner</td>\n",
              "      <td>Secondary / secondary special</td>\n",
              "      <td>Single / not married</td>\n",
              "      <td>House / apartment</td>\n",
              "      <td>-22361</td>\n",
              "      <td>365243</td>\n",
              "      <td>1</td>\n",
              "      <td>0</td>\n",
              "      <td>1</td>\n",
              "      <td>0</td>\n",
              "      <td>NaN</td>\n",
              "      <td>1.0</td>\n",
              "      <td>-5.0</td>\n",
              "      <td>2.0</td>\n",
              "    </tr>\n",
              "    <tr>\n",
              "      <th>46</th>\n",
              "      <td>46</td>\n",
              "      <td>F</td>\n",
              "      <td>N</td>\n",
              "      <td>N</td>\n",
              "      <td>0</td>\n",
              "      <td>135000.0</td>\n",
              "      <td>Pensioner</td>\n",
              "      <td>Secondary / secondary special</td>\n",
              "      <td>Widow</td>\n",
              "      <td>House / apartment</td>\n",
              "      <td>-21100</td>\n",
              "      <td>365243</td>\n",
              "      <td>1</td>\n",
              "      <td>0</td>\n",
              "      <td>1</td>\n",
              "      <td>0</td>\n",
              "      <td>NaN</td>\n",
              "      <td>1.0</td>\n",
              "      <td>-24.0</td>\n",
              "      <td>2.0</td>\n",
              "    </tr>\n",
              "  </tbody>\n",
              "</table>\n",
              "</div>\n",
              "      <button class=\"colab-df-convert\" onclick=\"convertToInteractive('df-aaadec1f-0648-4bea-99fc-c0be719784ee')\"\n",
              "              title=\"Convert this dataframe to an interactive table.\"\n",
              "              style=\"display:none;\">\n",
              "        \n",
              "  <svg xmlns=\"http://www.w3.org/2000/svg\" height=\"24px\"viewBox=\"0 0 24 24\"\n",
              "       width=\"24px\">\n",
              "    <path d=\"M0 0h24v24H0V0z\" fill=\"none\"/>\n",
              "    <path d=\"M18.56 5.44l.94 2.06.94-2.06 2.06-.94-2.06-.94-.94-2.06-.94 2.06-2.06.94zm-11 1L8.5 8.5l.94-2.06 2.06-.94-2.06-.94L8.5 2.5l-.94 2.06-2.06.94zm10 10l.94 2.06.94-2.06 2.06-.94-2.06-.94-.94-2.06-.94 2.06-2.06.94z\"/><path d=\"M17.41 7.96l-1.37-1.37c-.4-.4-.92-.59-1.43-.59-.52 0-1.04.2-1.43.59L10.3 9.45l-7.72 7.72c-.78.78-.78 2.05 0 2.83L4 21.41c.39.39.9.59 1.41.59.51 0 1.02-.2 1.41-.59l7.78-7.78 2.81-2.81c.8-.78.8-2.07 0-2.86zM5.41 20L4 18.59l7.72-7.72 1.47 1.35L5.41 20z\"/>\n",
              "  </svg>\n",
              "      </button>\n",
              "      \n",
              "  <style>\n",
              "    .colab-df-container {\n",
              "      display:flex;\n",
              "      flex-wrap:wrap;\n",
              "      gap: 12px;\n",
              "    }\n",
              "\n",
              "    .colab-df-convert {\n",
              "      background-color: #E8F0FE;\n",
              "      border: none;\n",
              "      border-radius: 50%;\n",
              "      cursor: pointer;\n",
              "      display: none;\n",
              "      fill: #1967D2;\n",
              "      height: 32px;\n",
              "      padding: 0 0 0 0;\n",
              "      width: 32px;\n",
              "    }\n",
              "\n",
              "    .colab-df-convert:hover {\n",
              "      background-color: #E2EBFA;\n",
              "      box-shadow: 0px 1px 2px rgba(60, 64, 67, 0.3), 0px 1px 3px 1px rgba(60, 64, 67, 0.15);\n",
              "      fill: #174EA6;\n",
              "    }\n",
              "\n",
              "    [theme=dark] .colab-df-convert {\n",
              "      background-color: #3B4455;\n",
              "      fill: #D2E3FC;\n",
              "    }\n",
              "\n",
              "    [theme=dark] .colab-df-convert:hover {\n",
              "      background-color: #434B5C;\n",
              "      box-shadow: 0px 1px 3px 1px rgba(0, 0, 0, 0.15);\n",
              "      filter: drop-shadow(0px 1px 2px rgba(0, 0, 0, 0.3));\n",
              "      fill: #FFFFFF;\n",
              "    }\n",
              "  </style>\n",
              "\n",
              "      <script>\n",
              "        const buttonEl =\n",
              "          document.querySelector('#df-aaadec1f-0648-4bea-99fc-c0be719784ee button.colab-df-convert');\n",
              "        buttonEl.style.display =\n",
              "          google.colab.kernel.accessAllowed ? 'block' : 'none';\n",
              "\n",
              "        async function convertToInteractive(key) {\n",
              "          const element = document.querySelector('#df-aaadec1f-0648-4bea-99fc-c0be719784ee');\n",
              "          const dataTable =\n",
              "            await google.colab.kernel.invokeFunction('convertToInteractive',\n",
              "                                                     [key], {});\n",
              "          if (!dataTable) return;\n",
              "\n",
              "          const docLinkHtml = 'Like what you see? Visit the ' +\n",
              "            '<a target=\"_blank\" href=https://colab.research.google.com/notebooks/data_table.ipynb>data table notebook</a>'\n",
              "            + ' to learn more about interactive tables.';\n",
              "          element.innerHTML = '';\n",
              "          dataTable['output_type'] = 'display_data';\n",
              "          await google.colab.output.renderOutput(dataTable, element);\n",
              "          const docLink = document.createElement('div');\n",
              "          docLink.innerHTML = docLinkHtml;\n",
              "          element.appendChild(docLink);\n",
              "        }\n",
              "      </script>\n",
              "    </div>\n",
              "  </div>\n",
              "  "
            ]
          },
          "metadata": {},
          "execution_count": 34
        }
      ],
      "source": [
        "train_df[train_df['DAYS_EMPLOYED']>=0].head()"
      ]
    },
    {
      "cell_type": "code",
      "execution_count": null,
      "metadata": {
        "colab": {
          "base_uri": "https://localhost:8080/"
        },
        "id": "BJEYmSD8Jtj-",
        "outputId": "5bf18bdc-d2da-46ff-c5c2-a988a5673baa"
      },
      "outputs": [
        {
          "output_type": "stream",
          "name": "stdout",
          "text": [
            "365243\n",
            "-17\n"
          ]
        }
      ],
      "source": [
        "print(sorted(train_df['DAYS_EMPLOYED'].unique())[-1])\n",
        "print(sorted(train_df['DAYS_EMPLOYED'].unique())[-2])"
      ]
    },
    {
      "cell_type": "code",
      "execution_count": null,
      "metadata": {
        "id": "m4BZhFJ7JxXb"
      },
      "outputs": [],
      "source": [
        "# DAYS_EMPLOYED가 양수, 즉 고용되지 않은 상태 일때의 DAYS_EMPLOYED는 모두 365243으로 동일\n",
        "# 해당 값들 0으로 대체 필요"
      ]
    },
    {
      "cell_type": "markdown",
      "metadata": {
        "id": "HeP6ofkUJ84i"
      },
      "source": [
        "### 12. FLAG_MOBIL"
      ]
    },
    {
      "cell_type": "code",
      "execution_count": null,
      "metadata": {
        "colab": {
          "base_uri": "https://localhost:8080/",
          "height": 297
        },
        "id": "vVFOl1xcKALA",
        "outputId": "69560c98-8df8-40b8-d048-e4b2460ba250"
      },
      "outputs": [
        {
          "output_type": "execute_result",
          "data": {
            "text/plain": [
              "<matplotlib.axes._subplots.AxesSubplot at 0x7fbbc10e7e80>"
            ]
          },
          "metadata": {},
          "execution_count": 37
        },
        {
          "output_type": "display_data",
          "data": {
            "text/plain": [
              "<Figure size 432x288 with 1 Axes>"
            ],
            "image/png": "[encoded data removed]"
          },
          "metadata": {
            "needs_background": "light"
          }
        }
      ],
      "source": [
        "sns.countplot(data=train_df, x=\"FLAG_MOBIL\")"
      ]
    },
    {
      "cell_type": "code",
      "execution_count": null,
      "metadata": {
        "id": "y576mpmmKJPD"
      },
      "outputs": [],
      "source": [
        "# 조사한 모든 사람들이 핸드폰을 소유하고 있음"
      ]
    },
    {
      "cell_type": "markdown",
      "metadata": {
        "id": "oG_18ahSKQb2"
      },
      "source": [
        "### 13. work_phone"
      ]
    },
    {
      "cell_type": "code",
      "execution_count": null,
      "metadata": {
        "colab": {
          "base_uri": "https://localhost:8080/",
          "height": 389
        },
        "id": "sATmSxhLKWvQ",
        "outputId": "b98093b3-9efa-4b1f-defb-4de122bf0667"
      },
      "outputs": [
        {
          "output_type": "display_data",
          "data": {
            "text/plain": [
              "<Figure size 1080x432 with 2 Axes>"
            ],
            "image/png": "[encoded data removed]"
          },
          "metadata": {
            "needs_background": "light"
          }
        }
      ],
      "source": [
        "fig = plt.figure(figsize=(15,6))\n",
        "ax1 = plt.subplot(1,2,1)\n",
        "sns.countplot(data=train_df, x=\"work_phone\", ax=ax1)\n",
        "ax2 = plt.subplot(1,2,2)\n",
        "sns.countplot(data=train_df, x=\"work_phone\", hue='credit', ax=ax2)\n",
        "plt.show()"
      ]
    },
    {
      "cell_type": "markdown",
      "metadata": {
        "id": "FjKIgbusKcM-"
      },
      "source": [
        "### 14. phone"
      ]
    },
    {
      "cell_type": "code",
      "execution_count": null,
      "metadata": {
        "colab": {
          "base_uri": "https://localhost:8080/",
          "height": 388
        },
        "id": "ptRR1hvZKb4K",
        "outputId": "58bee58c-39a5-4b9c-f903-b3d7c6beb598"
      },
      "outputs": [
        {
          "output_type": "display_data",
          "data": {
            "text/plain": [
              "<Figure size 1080x432 with 2 Axes>"
            ],
            "image/png": "[encoded data removed]"
          },
          "metadata": {
            "needs_background": "light"
          }
        }
      ],
      "source": [
        "fig = plt.figure(figsize=(15,6))\n",
        "ax1 = plt.subplot(1,2,1)\n",
        "sns.countplot(data=train_df, x=\"phone\", ax=ax1)\n",
        "ax2 = plt.subplot(1,2,2)\n",
        "sns.countplot(data=train_df, x=\"phone\", hue='credit', ax=ax2)\n",
        "plt.show()"
      ]
    },
    {
      "cell_type": "markdown",
      "metadata": {
        "id": "iAd5e25tKlUk"
      },
      "source": [
        "### 15. email"
      ]
    },
    {
      "cell_type": "code",
      "execution_count": null,
      "metadata": {
        "colab": {
          "base_uri": "https://localhost:8080/",
          "height": 389
        },
        "id": "L0gqhdscKnCL",
        "outputId": "b31e1644-f1fb-453e-939c-8c4d0e7d1d06"
      },
      "outputs": [
        {
          "output_type": "display_data",
          "data": {
            "text/plain": [
              "<Figure size 1080x432 with 2 Axes>"
            ],
            "image/png": "[encoded data removed]"
          },
          "metadata": {
            "needs_background": "light"
          }
        }
      ],
      "source": [
        "fig = plt.figure(figsize=(15,6))\n",
        "ax1 = plt.subplot(1,2,1)\n",
        "sns.countplot(data=train_df, x=\"email\", ax=ax1)\n",
        "ax2 = plt.subplot(1,2,2)\n",
        "sns.countplot(data=train_df, x=\"email\", hue='credit', ax=ax2)\n",
        "plt.show()"
      ]
    },
    {
      "cell_type": "markdown",
      "metadata": {
        "id": "lfihTrjuKpD5"
      },
      "source": [
        "### 16. occyp_type"
      ]
    },
    {
      "cell_type": "code",
      "execution_count": null,
      "metadata": {
        "colab": {
          "base_uri": "https://localhost:8080/"
        },
        "id": "vYYUBA5cKz1m",
        "outputId": "12bda605-6711-47b7-b873-a98f9ee17bbf"
      },
      "outputs": [
        {
          "output_type": "execute_result",
          "data": {
            "text/plain": [
              "array([nan, 'Laborers', 'Managers', 'Sales staff',\n",
              "       'High skill tech staff', 'Core staff', 'Drivers', 'Medicine staff',\n",
              "       'Accountants', 'Realty agents', 'Security staff', 'Cleaning staff',\n",
              "       'Private service staff', 'Cooking staff', 'Secretaries',\n",
              "       'HR staff', 'IT staff', 'Low-skill Laborers',\n",
              "       'Waiters/barmen staff'], dtype=object)"
            ]
          },
          "metadata": {},
          "execution_count": 42
        }
      ],
      "source": [
        "train_df['occyp_type'].unique()"
      ]
    },
    {
      "cell_type": "code",
      "execution_count": null,
      "metadata": {
        "colab": {
          "base_uri": "https://localhost:8080/",
          "height": 460
        },
        "id": "KgNK-UBuK8X4",
        "outputId": "7e86f783-c91f-484a-cbab-eb4b72c44015"
      },
      "outputs": [
        {
          "output_type": "display_data",
          "data": {
            "text/plain": [
              "<Figure size 1080x432 with 2 Axes>"
            ],
            "image/png": "[encoded data removed]"
          },
          "metadata": {
            "needs_background": "light"
          }
        }
      ],
      "source": [
        "fig = plt.figure(figsize=(15,6))\n",
        "ax1 = plt.subplot(1,2,1)\n",
        "sns.countplot(data=train_df, x=\"occyp_type\", ax=ax1)\n",
        "plt.xticks(rotation=45)\n",
        "ax2 = plt.subplot(1,2,2)\n",
        "sns.countplot(data=train_df, x=\"occyp_type\", hue='credit', ax=ax2)\n",
        "plt.xticks(rotation=45)\n",
        "plt.show()"
      ]
    },
    {
      "cell_type": "markdown",
      "metadata": {
        "id": "LNao_xMXL_13"
      },
      "source": [
        "### 17. family_size"
      ]
    },
    {
      "cell_type": "code",
      "execution_count": null,
      "metadata": {
        "colab": {
          "base_uri": "https://localhost:8080/",
          "height": 389
        },
        "id": "VSWHRAUdMQ8a",
        "outputId": "95eff221-7983-46ef-fb16-473f9d307132"
      },
      "outputs": [
        {
          "output_type": "display_data",
          "data": {
            "text/plain": [
              "<Figure size 1080x432 with 2 Axes>"
            ],
            "image/png": "[encoded data removed]"
          },
          "metadata": {
            "needs_background": "light"
          }
        }
      ],
      "source": [
        "fig = plt.figure(figsize=(15,6))\n",
        "ax1 = plt.subplot(1,2,1)\n",
        "sns.countplot(data=train_df, x=\"family_size\", ax=ax1)\n",
        "ax2 = plt.subplot(1,2,2)\n",
        "sns.countplot(data=train_df, x=\"family_size\", hue='credit', ax=ax2)\n",
        "plt.show()"
      ]
    },
    {
      "cell_type": "markdown",
      "metadata": {
        "id": "0ZHXcD-mMpW7"
      },
      "source": [
        "### 18. begin_month"
      ]
    },
    {
      "cell_type": "code",
      "execution_count": null,
      "metadata": {
        "colab": {
          "base_uri": "https://localhost:8080/",
          "height": 389
        },
        "id": "O6e6yXQwMotx",
        "outputId": "4019f736-05d5-44e6-8b68-c7559e102b76"
      },
      "outputs": [
        {
          "output_type": "display_data",
          "data": {
            "text/plain": [
              "<Figure size 1080x432 with 2 Axes>"
            ],
            "image/png": "[encoded data removed]"
          },
          "metadata": {
            "needs_background": "light"
          }
        }
      ],
      "source": [
        "fig = plt.figure(figsize=(15,6))\n",
        "ax1 = plt.subplot(1,2,1)\n",
        "sns.kdeplot(data=train_df, x=\"begin_month\", ax=ax1,)\n",
        "ax2 = plt.subplot(1,2,2)\n",
        "sns.kdeplot(data=train_df, x=\"begin_month\", hue='credit', ax=ax2)\n",
        "plt.show()"
      ]
    },
    {
      "cell_type": "markdown",
      "metadata": {
        "id": "PjUM5lnPM5W7"
      },
      "source": [
        "### 19. credit"
      ]
    },
    {
      "cell_type": "code",
      "execution_count": null,
      "metadata": {
        "colab": {
          "base_uri": "https://localhost:8080/"
        },
        "id": "Um3DijrHM7it",
        "outputId": "a32eb9d7-55bc-489a-ee27-56e2cac5fa5e"
      },
      "outputs": [
        {
          "output_type": "execute_result",
          "data": {
            "text/plain": [
              "2.0    16968\n",
              "1.0     6267\n",
              "0.0     3222\n",
              "Name: credit, dtype: int64"
            ]
          },
          "metadata": {},
          "execution_count": 46
        }
      ],
      "source": [
        "train_df['credit'].value_counts()"
      ]
    },
    {
      "cell_type": "code",
      "execution_count": null,
      "metadata": {
        "colab": {
          "base_uri": "https://localhost:8080/",
          "height": 296
        },
        "id": "6u_SZTT6M-_i",
        "outputId": "13de1349-ea9f-487d-ca6e-b048df38a446"
      },
      "outputs": [
        {
          "output_type": "execute_result",
          "data": {
            "text/plain": [
              "<matplotlib.axes._subplots.AxesSubplot at 0x7fbbbf4176d0>"
            ]
          },
          "metadata": {},
          "execution_count": 47
        },
        {
          "output_type": "display_data",
          "data": {
            "text/plain": [
              "<Figure size 432x288 with 1 Axes>"
            ],
            "image/png": "[encoded data removed]"
          },
          "metadata": {
            "needs_background": "light"
          }
        }
      ],
      "source": [
        "sns.countplot(data=train_df, x=\"credit\")"
      ]
    },
    {
      "cell_type": "markdown",
      "metadata": {
        "id": "gKLgoLlJN2PT"
      },
      "source": [
        "## 1-4. 상관관계 확인"
      ]
    },
    {
      "cell_type": "markdown",
      "metadata": {
        "id": "rSeMZvqNU7c8"
      },
      "source": [
        "### Heatmap\n",
        "- index와 FLAG_MOBIL은 drop\n",
        "- DAYS_BIRTH, DAYS_EMPLOYED, begin_month는 양수로 변경"
      ]
    },
    {
      "cell_type": "code",
      "execution_count": null,
      "metadata": {
        "colab": {
          "base_uri": "https://localhost:8080/",
          "height": 687
        },
        "id": "gftQXgUhU8lQ",
        "outputId": "36a0971a-97c9-4ecf-e4b5-02c4cbd5b780"
      },
      "outputs": [
        {
          "output_type": "execute_result",
          "data": {
            "text/plain": [
              "<matplotlib.axes._subplots.AxesSubplot at 0x7fbbbf4c2700>"
            ]
          },
          "metadata": {},
          "execution_count": 49
        },
        {
          "output_type": "display_data",
          "data": {
            "text/plain": [
              "<Figure size 864x720 with 2 Axes>"
            ],
            "image/png": "[encoded data removed]"
          },
          "metadata": {
            "needs_background": "light"
          }
        }
      ],
      "source": [
        "heatmap_df = train_df.drop(['index','FLAG_MOBIL'], axis=1)\n",
        "heatmap_df[['DAYS_BIRTH','DAYS_EMPLOYED','begin_month']] = abs(heatmap_df[['DAYS_BIRTH','DAYS_EMPLOYED','begin_month']])\n",
        "fig = plt.figure(figsize=(12,10))\n",
        "sns.heatmap(heatmap_df.corr(), annot=True)"
      ]
    },
    {
      "cell_type": "code",
      "execution_count": null,
      "metadata": {
        "id": "o32J34zSWenx"
      },
      "outputs": [],
      "source": [
        "# credit과 유의미한 상관관계를 보이는 변수는 없어보임\n",
        "# 자녀수가 많을수록 familysize가 커지는 경향\n",
        "# 나이가 많을 수록 경력도 길어지는 경향"
      ]
    },
    {
      "cell_type": "markdown",
      "metadata": {
        "id": "MN1GJZoomuIK"
      },
      "source": [
        "# 2. 전처리\n",
        "- 결측치 처리\n",
        "- 음수로 된 변수 양수로 변경(기간)\n",
        "- 출생일, 업무시작일 월단위로 변경\n",
        "- 이상치 처리\n",
        "- 정규화 & label encoding"
      ]
    },
    {
      "cell_type": "code",
      "execution_count": null,
      "metadata": {
        "id": "y5ZPyMHZAtV1"
      },
      "outputs": [],
      "source": [
        "train_credit = train_df.copy()\n",
        "test_credit = test_df.copy()"
      ]
    },
    {
      "cell_type": "markdown",
      "metadata": {
        "id": "kafqNZKK-EwG"
      },
      "source": [
        "## 2-1. 의미 없는 변수 제거\n",
        "- index, FLAG_MOBIL\n",
        "- FLAG MOBIL은 모두 1이기 때문에 의미가 없다고 판단"
      ]
    },
    {
      "cell_type": "code",
      "execution_count": null,
      "metadata": {
        "id": "Jfe3QsA2mvmT"
      },
      "outputs": [],
      "source": [
        "train_credit.drop(['index', 'FLAG_MOBIL'], axis=1, inplace=True)\n",
        "test_credit.drop(['index', 'FLAG_MOBIL'], axis=1, inplace=True)"
      ]
    },
    {
      "cell_type": "markdown",
      "metadata": {
        "id": "yW4dvJXAntFG"
      },
      "source": [
        "## 2-2. DAYS_EMPLOYED\n",
        "- 양수 값 0으로 변경\n"
      ]
    },
    {
      "cell_type": "code",
      "execution_count": null,
      "metadata": {
        "id": "xE9U7CoonxlZ"
      },
      "outputs": [],
      "source": [
        "train_credit['DAYS_EMPLOYED'] = train_credit['DAYS_EMPLOYED'].map(lambda x: 0 if x > 0 else x)\n",
        "test_credit['DAYS_EMPLOYED'] = test_credit['DAYS_EMPLOYED'].map(lambda x: 0 if x > 0 else x)"
      ]
    },
    {
      "cell_type": "markdown",
      "metadata": {
        "id": "R3DvBokJv0ah"
      },
      "source": [
        "## 2-3. 음수값 -> 양수 변경\n",
        "DAYS_BIRTH, begin_month, DAYS_EMPLOYED"
      ]
    },
    {
      "cell_type": "code",
      "execution_count": null,
      "metadata": {
        "id": "vwxob-f8vzgh"
      },
      "outputs": [],
      "source": [
        "neg_feats = ['DAYS_BIRTH', 'begin_month', 'DAYS_EMPLOYED']\n",
        "for f in neg_feats:\n",
        "    train_credit[f]=np.abs(train_credit[f])\n",
        "    test_credit[f]=np.abs(test_credit[f])"
      ]
    },
    {
      "cell_type": "markdown",
      "metadata": {
        "id": "flWIIp7K0WPe"
      },
      "source": [
        "## 2-4. 일 단위 -> 월 단위 파생변수 생성\n",
        "- DAYS_BIRTH, DAYS_EMPLOYED => 30으로 나누어서 월 단위 변수 추가"
      ]
    },
    {
      "cell_type": "code",
      "execution_count": null,
      "metadata": {
        "id": "HMDJPCk4vzmx"
      },
      "outputs": [],
      "source": [
        "train_credit['DAYS_BIRTH_month'] = np.round((train_credit['DAYS_BIRTH']/365)*12).astype(int)\n",
        "test_credit['DAYS_BIRTH_month'] = np.round((test_credit['DAYS_BIRTH']/365)*12).astype(int)"
      ]
    },
    {
      "cell_type": "code",
      "execution_count": null,
      "metadata": {
        "id": "fbtYPC1guJXl"
      },
      "outputs": [],
      "source": [
        "train_credit['DAYS_EMPLOYED_month'] = np.round((train_credit['DAYS_EMPLOYED']/365)*12).astype(int)\n",
        "test_credit['DAYS_EMPLOYED_month'] = np.round((test_credit['DAYS_EMPLOYED']/365)*12).astype(int)"
      ]
    },
    {
      "cell_type": "markdown",
      "metadata": {
        "id": "22Kp0-DH5xNI"
      },
      "source": [
        "## 2-5. 이상치 제거\n",
        "- 자녀 수가 5명 이상인 경우에는 5명으로 통일"
      ]
    },
    {
      "cell_type": "code",
      "execution_count": null,
      "metadata": {
        "id": "Czd-mOtkvzx7"
      },
      "outputs": [],
      "source": [
        "train_credit['child_num'] = train_credit['child_num'].map(lambda x: 5 if x > 5 else x)\n",
        "test_credit['child_num'] = test_credit['child_num'].map(lambda x: 5 if x > 5 else x)"
      ]
    },
    {
      "cell_type": "markdown",
      "metadata": {
        "id": "KqDySWM_zQY5"
      },
      "source": [
        "## 2-6. Feature Drop\n",
        "- 새롭게 생성한 파생변수와 다중공산성이 있는 변수 삭제"
      ]
    },
    {
      "cell_type": "code",
      "execution_count": null,
      "metadata": {
        "colab": {
          "base_uri": "https://localhost:8080/",
          "height": 724
        },
        "id": "sP7V2ujxzCHX",
        "outputId": "b0e9b395-674f-454b-f30f-90ca8c92e3e5"
      },
      "outputs": [
        {
          "output_type": "execute_result",
          "data": {
            "text/plain": [
              "<matplotlib.axes._subplots.AxesSubplot at 0x7fbbbbd09130>"
            ]
          },
          "metadata": {},
          "execution_count": 97
        },
        {
          "output_type": "display_data",
          "data": {
            "text/plain": [
              "<Figure size 864x720 with 2 Axes>"
            ],
            "image/png": "[encoded data removed]"
          },
          "metadata": {
            "needs_background": "light"
          }
        }
      ],
      "source": [
        "plt.figure(figsize=(12,10))\n",
        "sns.heatmap(train_credit.corr(), annot=True)"
      ]
    },
    {
      "cell_type": "code",
      "execution_count": null,
      "metadata": {
        "id": "KudDUEsdzUE3"
      },
      "outputs": [],
      "source": [
        "# redundant한 변수 drop\n",
        "# child_num, DAYS_EMPLOYED,DAYS_BIRTH\n",
        "train_credit.drop(['child_num','DAYS_EMPLOYED','DAYS_BIRTH'], axis=1, inplace=True)\n",
        "test_credit.drop(['child_num','DAYS_EMPLOYED','DAYS_BIRTH'], axis=1, inplace=True)"
      ]
    },
    {
      "cell_type": "code",
      "execution_count": null,
      "metadata": {
        "colab": {
          "base_uri": "https://localhost:8080/",
          "height": 724
        },
        "id": "csTXwwyWz1qY",
        "outputId": "a673ec81-41ae-4539-a368-2860a0f69c2e"
      },
      "outputs": [
        {
          "output_type": "execute_result",
          "data": {
            "text/plain": [
              "<matplotlib.axes._subplots.AxesSubplot at 0x7fbbbbd09a30>"
            ]
          },
          "metadata": {},
          "execution_count": 99
        },
        {
          "output_type": "display_data",
          "data": {
            "text/plain": [
              "<Figure size 864x720 with 2 Axes>"
            ],
            "image/png": "[encoded data removed]"
          },
          "metadata": {
            "needs_background": "light"
          }
        }
      ],
      "source": [
        "plt.figure(figsize=(12,10))\n",
        "sns.heatmap(train_credit.corr(), annot=True)"
      ]
    },
    {
      "cell_type": "markdown",
      "source": [
        "## 2-7. 결측치 처리\n",
        "- 'occyp_type'의 결측치 처리 필요\n",
        "- datawig를 사용해서 결측치 대체\n",
        "- 'occyp_type'과 연관이 있을 것이라고 판단한 'income_total', 'income type', 'edu_type'을 통해 결측치 처리"
      ],
      "metadata": {
        "id": "1yjaoGyPjBVu"
      }
    },
    {
      "cell_type": "code",
      "source": [
        "imputer = datawig.SimpleImputer(\n",
        "    input_columns=['income_total','income_type','edu_type'], \n",
        "    output_column='occyp_type', \n",
        "    output_path='imputer_model'\n",
        "    )"
      ],
      "metadata": {
        "id": "G_okFF7dm0ht"
      },
      "execution_count": null,
      "outputs": []
    },
    {
      "cell_type": "code",
      "source": [
        "imputer.fit(train_df=train_credit, num_epochs=30)"
      ],
      "metadata": {
        "id": "jAHyhL2mui1H"
      },
      "execution_count": null,
      "outputs": []
    },
    {
      "cell_type": "code",
      "source": [
        "# 학습한 imputer을 통해 결측치 제거\n",
        "train_credit_imputed = imputer.predict(train_credit)\n",
        "test_credit_imputed = imputer.predict(test_credit)"
      ],
      "metadata": {
        "id": "S_1nIE6sulJy"
      },
      "execution_count": null,
      "outputs": []
    },
    {
      "cell_type": "code",
      "source": [
        "train_credit_imputed.head()"
      ],
      "metadata": {
        "colab": {
          "base_uri": "https://localhost:8080/",
          "height": 270
        },
        "id": "cWEOUTbU0XGv",
        "outputId": "8f4d7337-85bb-44a7-d31a-8bc2a3cc1ac3"
      },
      "execution_count": null,
      "outputs": [
        {
          "output_type": "execute_result",
          "data": {
            "text/plain": [
              "   gender  car  reality  income_total  income_type  edu_type  family_type  \\\n",
              "0       0    0        0      0.149136            0         1            1   \n",
              "1       0    0        1      0.590848            0         4            0   \n",
              "2       1    1        1      2.578550            4         1            1   \n",
              "3       0    0        1      0.149136            0         4            1   \n",
              "4       0    1        1     -0.292575            2         1            1   \n",
              "\n",
              "   house_type  work_phone  phone  email   occyp_type  family_size  \\\n",
              "0           2           0      0      0          NaN          2.0   \n",
              "1           1           0      0      1     Laborers          3.0   \n",
              "2           1           0      1      0     Managers          2.0   \n",
              "3           1           0      1      0  Sales staff          2.0   \n",
              "4           1           0      0      0     Managers          2.0   \n",
              "\n",
              "   begin_month  credit  DAYS_BIRTH_month  DAYS_EMPLOYED_month  \\\n",
              "0          6.0     1.0               457                  155   \n",
              "1          5.0     1.0               374                   51   \n",
              "2         22.0     2.0               628                  146   \n",
              "3         37.0     0.0               496                   69   \n",
              "4         26.0     2.0               494                   69   \n",
              "\n",
              "  occyp_type_imputed  occyp_type_imputed_proba  \n",
              "0           Managers                  0.261211  \n",
              "1           Laborers                  0.273371  \n",
              "2           Managers                  0.481164  \n",
              "3           Laborers                  0.277102  \n",
              "4         Core staff                  0.451586  "
            ],
            "text/html": [
              "\n",
              "  <div id=\"df-ff4a7644-c84b-4847-a665-9238b6a42622\">\n",
              "    <div class=\"colab-df-container\">\n",
              "      <div>\n",
              "<style scoped>\n",
              "    .dataframe tbody tr th:only-of-type {\n",
              "        vertical-align: middle;\n",
              "    }\n",
              "\n",
              "    .dataframe tbody tr th {\n",
              "        vertical-align: top;\n",
              "    }\n",
              "\n",
              "    .dataframe thead th {\n",
              "        text-align: right;\n",
              "    }\n",
              "</style>\n",
              "<table border=\"1\" class=\"dataframe\">\n",
              "  <thead>\n",
              "    <tr style=\"text-align: right;\">\n",
              "      <th></th>\n",
              "      <th>gender</th>\n",
              "      <th>car</th>\n",
              "      <th>reality</th>\n",
              "      <th>income_total</th>\n",
              "      <th>income_type</th>\n",
              "      <th>edu_type</th>\n",
              "      <th>family_type</th>\n",
              "      <th>house_type</th>\n",
              "      <th>work_phone</th>\n",
              "      <th>phone</th>\n",
              "      <th>email</th>\n",
              "      <th>occyp_type</th>\n",
              "      <th>family_size</th>\n",
              "      <th>begin_month</th>\n",
              "      <th>credit</th>\n",
              "      <th>DAYS_BIRTH_month</th>\n",
              "      <th>DAYS_EMPLOYED_month</th>\n",
              "      <th>occyp_type_imputed</th>\n",
              "      <th>occyp_type_imputed_proba</th>\n",
              "    </tr>\n",
              "  </thead>\n",
              "  <tbody>\n",
              "    <tr>\n",
              "      <th>0</th>\n",
              "      <td>0</td>\n",
              "      <td>0</td>\n",
              "      <td>0</td>\n",
              "      <td>0.149136</td>\n",
              "      <td>0</td>\n",
              "      <td>1</td>\n",
              "      <td>1</td>\n",
              "      <td>2</td>\n",
              "      <td>0</td>\n",
              "      <td>0</td>\n",
              "      <td>0</td>\n",
              "      <td>NaN</td>\n",
              "      <td>2.0</td>\n",
              "      <td>6.0</td>\n",
              "      <td>1.0</td>\n",
              "      <td>457</td>\n",
              "      <td>155</td>\n",
              "      <td>Managers</td>\n",
              "      <td>0.261211</td>\n",
              "    </tr>\n",
              "    <tr>\n",
              "      <th>1</th>\n",
              "      <td>0</td>\n",
              "      <td>0</td>\n",
              "      <td>1</td>\n",
              "      <td>0.590848</td>\n",
              "      <td>0</td>\n",
              "      <td>4</td>\n",
              "      <td>0</td>\n",
              "      <td>1</td>\n",
              "      <td>0</td>\n",
              "      <td>0</td>\n",
              "      <td>1</td>\n",
              "      <td>Laborers</td>\n",
              "      <td>3.0</td>\n",
              "      <td>5.0</td>\n",
              "      <td>1.0</td>\n",
              "      <td>374</td>\n",
              "      <td>51</td>\n",
              "      <td>Laborers</td>\n",
              "      <td>0.273371</td>\n",
              "    </tr>\n",
              "    <tr>\n",
              "      <th>2</th>\n",
              "      <td>1</td>\n",
              "      <td>1</td>\n",
              "      <td>1</td>\n",
              "      <td>2.578550</td>\n",
              "      <td>4</td>\n",
              "      <td>1</td>\n",
              "      <td>1</td>\n",
              "      <td>1</td>\n",
              "      <td>0</td>\n",
              "      <td>1</td>\n",
              "      <td>0</td>\n",
              "      <td>Managers</td>\n",
              "      <td>2.0</td>\n",
              "      <td>22.0</td>\n",
              "      <td>2.0</td>\n",
              "      <td>628</td>\n",
              "      <td>146</td>\n",
              "      <td>Managers</td>\n",
              "      <td>0.481164</td>\n",
              "    </tr>\n",
              "    <tr>\n",
              "      <th>3</th>\n",
              "      <td>0</td>\n",
              "      <td>0</td>\n",
              "      <td>1</td>\n",
              "      <td>0.149136</td>\n",
              "      <td>0</td>\n",
              "      <td>4</td>\n",
              "      <td>1</td>\n",
              "      <td>1</td>\n",
              "      <td>0</td>\n",
              "      <td>1</td>\n",
              "      <td>0</td>\n",
              "      <td>Sales staff</td>\n",
              "      <td>2.0</td>\n",
              "      <td>37.0</td>\n",
              "      <td>0.0</td>\n",
              "      <td>496</td>\n",
              "      <td>69</td>\n",
              "      <td>Laborers</td>\n",
              "      <td>0.277102</td>\n",
              "    </tr>\n",
              "    <tr>\n",
              "      <th>4</th>\n",
              "      <td>0</td>\n",
              "      <td>1</td>\n",
              "      <td>1</td>\n",
              "      <td>-0.292575</td>\n",
              "      <td>2</td>\n",
              "      <td>1</td>\n",
              "      <td>1</td>\n",
              "      <td>1</td>\n",
              "      <td>0</td>\n",
              "      <td>0</td>\n",
              "      <td>0</td>\n",
              "      <td>Managers</td>\n",
              "      <td>2.0</td>\n",
              "      <td>26.0</td>\n",
              "      <td>2.0</td>\n",
              "      <td>494</td>\n",
              "      <td>69</td>\n",
              "      <td>Core staff</td>\n",
              "      <td>0.451586</td>\n",
              "    </tr>\n",
              "  </tbody>\n",
              "</table>\n",
              "</div>\n",
              "      <button class=\"colab-df-convert\" onclick=\"convertToInteractive('df-ff4a7644-c84b-4847-a665-9238b6a42622')\"\n",
              "              title=\"Convert this dataframe to an interactive table.\"\n",
              "              style=\"display:none;\">\n",
              "        \n",
              "  <svg xmlns=\"http://www.w3.org/2000/svg\" height=\"24px\"viewBox=\"0 0 24 24\"\n",
              "       width=\"24px\">\n",
              "    <path d=\"M0 0h24v24H0V0z\" fill=\"none\"/>\n",
              "    <path d=\"M18.56 5.44l.94 2.06.94-2.06 2.06-.94-2.06-.94-.94-2.06-.94 2.06-2.06.94zm-11 1L8.5 8.5l.94-2.06 2.06-.94-2.06-.94L8.5 2.5l-.94 2.06-2.06.94zm10 10l.94 2.06.94-2.06 2.06-.94-2.06-.94-.94-2.06-.94 2.06-2.06.94z\"/><path d=\"M17.41 7.96l-1.37-1.37c-.4-.4-.92-.59-1.43-.59-.52 0-1.04.2-1.43.59L10.3 9.45l-7.72 7.72c-.78.78-.78 2.05 0 2.83L4 21.41c.39.39.9.59 1.41.59.51 0 1.02-.2 1.41-.59l7.78-7.78 2.81-2.81c.8-.78.8-2.07 0-2.86zM5.41 20L4 18.59l7.72-7.72 1.47 1.35L5.41 20z\"/>\n",
              "  </svg>\n",
              "      </button>\n",
              "      \n",
              "  <style>\n",
              "    .colab-df-container {\n",
              "      display:flex;\n",
              "      flex-wrap:wrap;\n",
              "      gap: 12px;\n",
              "    }\n",
              "\n",
              "    .colab-df-convert {\n",
              "      background-color: #E8F0FE;\n",
              "      border: none;\n",
              "      border-radius: 50%;\n",
              "      cursor: pointer;\n",
              "      display: none;\n",
              "      fill: #1967D2;\n",
              "      height: 32px;\n",
              "      padding: 0 0 0 0;\n",
              "      width: 32px;\n",
              "    }\n",
              "\n",
              "    .colab-df-convert:hover {\n",
              "      background-color: #E2EBFA;\n",
              "      box-shadow: 0px 1px 2px rgba(60, 64, 67, 0.3), 0px 1px 3px 1px rgba(60, 64, 67, 0.15);\n",
              "      fill: #174EA6;\n",
              "    }\n",
              "\n",
              "    [theme=dark] .colab-df-convert {\n",
              "      background-color: #3B4455;\n",
              "      fill: #D2E3FC;\n",
              "    }\n",
              "\n",
              "    [theme=dark] .colab-df-convert:hover {\n",
              "      background-color: #434B5C;\n",
              "      box-shadow: 0px 1px 3px 1px rgba(0, 0, 0, 0.15);\n",
              "      filter: drop-shadow(0px 1px 2px rgba(0, 0, 0, 0.3));\n",
              "      fill: #FFFFFF;\n",
              "    }\n",
              "  </style>\n",
              "\n",
              "      <script>\n",
              "        const buttonEl =\n",
              "          document.querySelector('#df-ff4a7644-c84b-4847-a665-9238b6a42622 button.colab-df-convert');\n",
              "        buttonEl.style.display =\n",
              "          google.colab.kernel.accessAllowed ? 'block' : 'none';\n",
              "\n",
              "        async function convertToInteractive(key) {\n",
              "          const element = document.querySelector('#df-ff4a7644-c84b-4847-a665-9238b6a42622');\n",
              "          const dataTable =\n",
              "            await google.colab.kernel.invokeFunction('convertToInteractive',\n",
              "                                                     [key], {});\n",
              "          if (!dataTable) return;\n",
              "\n",
              "          const docLinkHtml = 'Like what you see? Visit the ' +\n",
              "            '<a target=\"_blank\" href=https://colab.research.google.com/notebooks/data_table.ipynb>data table notebook</a>'\n",
              "            + ' to learn more about interactive tables.';\n",
              "          element.innerHTML = '';\n",
              "          dataTable['output_type'] = 'display_data';\n",
              "          await google.colab.output.renderOutput(dataTable, element);\n",
              "          const docLink = document.createElement('div');\n",
              "          docLink.innerHTML = docLinkHtml;\n",
              "          element.appendChild(docLink);\n",
              "        }\n",
              "      </script>\n",
              "    </div>\n",
              "  </div>\n",
              "  "
            ]
          },
          "metadata": {},
          "execution_count": 107
        }
      ]
    },
    {
      "cell_type": "code",
      "source": [
        "test_credit_imputed.head()"
      ],
      "metadata": {
        "id": "_C0C0PNOCKCu"
      },
      "execution_count": null,
      "outputs": []
    },
    {
      "cell_type": "code",
      "source": [
        "# 기존 \"occyp_type\" & 결측치 대체 확률 \"occyp_type_imputed_proba\" 열 삭제\n",
        "train_credit_imputed.drop(['occyp_type', 'occyp_type_imputed_proba'], axis=1, inplace=True)\n",
        "test_credit_imputed.drop(['occyp_type', 'occyp_type_imputed_proba'], axis=1, inplace=True)"
      ],
      "metadata": {
        "id": "JRAdv4xJzHHS"
      },
      "execution_count": null,
      "outputs": []
    },
    {
      "cell_type": "markdown",
      "metadata": {
        "id": "NB8GiB6B2Ro-"
      },
      "source": [
        "## 2-8. Normalization & Encoding\n",
        "수치형 데이터에 대해서는 정규화를 진행하였고, 범주형 데이터에 대해서는 label encoding을 진행하였다."
      ]
    },
    {
      "cell_type": "code",
      "execution_count": null,
      "metadata": {
        "id": "2s1T1g8t25a9"
      },
      "outputs": [],
      "source": [
        "num_cols = ['income_total','family_size','begin_month','DAYS_BIRTH_month','DAYS_EMPLOYED_month']\n",
        "cat_cols = ['gender','car','reality','income_type','edu_type','family_type','house_type','work_phone','phone','email','occyp_type_imputed']\n",
        "ignore_cols = ['credit']"
      ]
    },
    {
      "cell_type": "code",
      "execution_count": null,
      "metadata": {
        "id": "RjH1Y0ss3ySC"
      },
      "outputs": [],
      "source": [
        "from sklearn.preprocessing import StandardScaler\n",
        "from sklearn.preprocessing import LabelEncoder"
      ]
    },
    {
      "cell_type": "code",
      "execution_count": null,
      "metadata": {
        "id": "uUn3_lSZ2QjI"
      },
      "outputs": [],
      "source": [
        "def get_values(value):\n",
        "    return value.values.reshape(-1, 1)\n",
        "\n",
        "for col in train_credit_imputed.columns:\n",
        "  if col in ignore_cols:\n",
        "    continue\n",
        "  if col in num_cols:\n",
        "      scaler = StandardScaler()\n",
        "      train_credit_imputed[col] = scaler.fit_transform(get_values(train_credit_imputed[col]))\n",
        "      test_credit_imputed[col] = scaler.transform(get_values(test_credit_imputed[col]))\n",
        "\n",
        "  else:\n",
        "      le = LabelEncoder()\n",
        "      train_credit_imputed[col] = le.fit_transform(get_values(train_credit_imputed[col]))\n",
        "      test_credit_imputed[col] = le.transform(get_values(test_credit_imputed[col]))"
      ]
    },
    {
      "cell_type": "markdown",
      "metadata": {
        "id": "g-ULATXw5baZ"
      },
      "source": [
        "# 3. Feature Selection\n",
        "- LGBMClassifier를 이용한 rfecv(Recursive Feature Elimination)기법 사용\n",
        "- rfe의 경우, 사용자가 몇개의 feature를 선택할 것인지 선택해야하지만, rfecv는 k-fold cross validation을 통해 높은 성능을 가지는 feature 개수를 자동을 탐색"
      ]
    },
    {
      "cell_type": "markdown",
      "metadata": {
        "id": "1DoXfpiF5EIj"
      },
      "source": [
        "## 3-1. Feature Selection"
      ]
    },
    {
      "cell_type": "code",
      "execution_count": null,
      "metadata": {
        "id": "eFzgp-wIzNK1"
      },
      "outputs": [],
      "source": [
        "from sklearn.feature_selection import RFECV\n",
        "from lightgbm import LGBMClassifier"
      ]
    },
    {
      "cell_type": "code",
      "execution_count": null,
      "metadata": {
        "id": "s04bKFtc7a8o"
      },
      "outputs": [],
      "source": [
        "X_train = train_credit_imputed.drop(['credit'], axis=1)\n",
        "y_train = train_credit_imputed['credit']\n",
        "X_test = test_credit_imputed"
      ]
    },
    {
      "cell_type": "code",
      "execution_count": null,
      "metadata": {
        "id": "B10l_7YRzRIs"
      },
      "outputs": [],
      "source": [
        "clf = LGBMClassifier(random_state=42, n_estimators=100, learning_rate=0.01)\n",
        "select = RFECV(clf, step=1, cv = 10, scoring=\"neg_mean_squared_error\")\n",
        "select = select.fit(X_train, y_train)"
      ]
    },
    {
      "cell_type": "code",
      "execution_count": null,
      "metadata": {
        "colab": {
          "base_uri": "https://localhost:8080/"
        },
        "id": "ZDVBdwZm2dPG",
        "outputId": "8fd37a2e-2ecd-4ce7-856f-5351435bb3ee"
      },
      "outputs": [
        {
          "output_type": "execute_result",
          "data": {
            "text/plain": [
              "Index(['gender', 'income_total', 'income_type', 'edu_type', 'family_type',\n",
              "       'house_type', 'family_size', 'begin_month', 'DAYS_BIRTH_month',\n",
              "       'DAYS_EMPLOYED_month', 'occyp_type_imputed'],\n",
              "      dtype='object')"
            ]
          },
          "metadata": {},
          "execution_count": 118
        }
      ],
      "source": [
        "selected_columns = X_train.columns[select.support_]\n",
        "selected_columns"
      ]
    },
    {
      "cell_type": "code",
      "execution_count": null,
      "metadata": {
        "colab": {
          "base_uri": "https://localhost:8080/"
        },
        "id": "ZTtmGY7T0c6_",
        "outputId": "c5d3cd1d-3ef8-43a1-f938-4ac2a2f85e12"
      },
      "outputs": [
        {
          "output_type": "stream",
          "name": "stdout",
          "text": [
            "X train: (26457, 16)\n",
            "X train select: (26457, 11)\n"
          ]
        }
      ],
      "source": [
        "X_train_select = select.transform(X_train)\n",
        "X_test_select = select.transform(X_test)\n",
        "\n",
        "print(\"X train:\", X_train.shape)\n",
        "print(\"X train select:\", X_train_select.shape)"
      ]
    },
    {
      "cell_type": "markdown",
      "source": [
        "Feature Selection\n",
        "- X_train_select\n",
        "- X_test_select\n",
        "- y_train\n",
        "\n",
        "<br>\n",
        "\n",
        "Original\n",
        "- X_train\n",
        "- X_test\n",
        "- y_train"
      ],
      "metadata": {
        "id": "UYT8Ah6UxnBH"
      }
    },
    {
      "cell_type": "code",
      "source": [
        "import pickle"
      ],
      "metadata": {
        "id": "8u-pT6Nn2n1h"
      },
      "execution_count": null,
      "outputs": []
    },
    {
      "cell_type": "code",
      "source": [
        "with open('/content/drive/MyDrive/Colab_Notebooks/2022_2 고려대학교/기계학습_termproject/preprocess_data/X_train.pkl', 'wb') as f:\n",
        "    pickle.dump(X_train, f)\n",
        "with open('/content/drive/MyDrive/Colab_Notebooks/2022_2 고려대학교/기계학습_termproject/preprocess_data/X_train_select.pkl', 'wb') as f:\n",
        "    pickle.dump(X_train_select, f)\n",
        "with open('/content/drive/MyDrive/Colab_Notebooks/2022_2 고려대학교/기계학습_termproject/preprocess_data/y_train.pkl', 'wb') as f:\n",
        "    pickle.dump(y_train, f)\n",
        "  \n",
        "with open('/content/drive/MyDrive/Colab_Notebooks/2022_2 고려대학교/기계학습_termproject/preprocess_data/X_test.pkl', 'wb') as f:\n",
        "    pickle.dump(X_test, f)\n",
        "with open('/content/drive/MyDrive/Colab_Notebooks/2022_2 고려대학교/기계학습_termproject/preprocess_data/X_test_select.pkl', 'wb') as f:\n",
        "    pickle.dump(X_test_select, f)"
      ],
      "metadata": {
        "id": "VSlEPiXn3aWY"
      },
      "execution_count": null,
      "outputs": []
    },
    {
      "cell_type": "markdown",
      "metadata": {
        "id": "VRaRNC7vxVwD"
      },
      "source": [
        "# 4. Model Selection\n",
        "Feature selection 수행한 dataset과 하지 않은 Original dataset 모두 사용\n",
        "### 사용 모델\n",
        "- Logistic Regression\n",
        "- Random Forest Classifier\n",
        "- Decision Tree Classifier\n",
        "- CatBoost\n",
        "- Voting : Logistic Regression & Random Forest & Decision Tree & CatBoost\n",
        "\n",
        "<br>\n",
        "\n",
        "각 model들의 parameter는 gridsearch를 통해 최적 parameter를 유추하였다. 그러나 Catboost에서 grid search를 사용할떄 계속 error가 발생해서, 함수를 만들어서 직접 parameter에 따른 성능을 확인했다.\n",
        "\n",
        "학습 과정에서는 Stratified 10 fold cross validation을 사용했다.\n",
        "\n",
        "Voting의 경우에는 soft voting을 사용했다.\n",
        "\n",
        "Support Vector Classifier도 사용해보고자 했으나, 학습 시간이 너무 오래 걸려서(5시간 이상) 여러번 시도해볼 수 없었기에 사용하지 못했다. \n"
      ]
    },
    {
      "cell_type": "code",
      "source": [
        "with open('/content/drive/MyDrive/Colab_Notebooks/2022_2 고려대학교/기계학습_termproject/preprocess_data/X_train.pkl', 'rb') as f:\n",
        "     X_train = pickle.load(f)\n",
        "with open('/content/drive/MyDrive/Colab_Notebooks/2022_2 고려대학교/기계학습_termproject/preprocess_data/X_train_select.pkl', 'rb') as f:\n",
        "     X_train_select = pickle.load(f)\n",
        "with open('/content/drive/MyDrive/Colab_Notebooks/2022_2 고려대학교/기계학습_termproject/preprocess_data/y_train.pkl', 'rb') as f:\n",
        "     y_train = pickle.load(f)\n",
        "     \n",
        "with open('/content/drive/MyDrive/Colab_Notebooks/2022_2 고려대학교/기계학습_termproject/preprocess_data/X_test.pkl', 'rb') as f:\n",
        "     X_test = pickle.load(f)\n",
        "with open('/content/drive/MyDrive/Colab_Notebooks/2022_2 고려대학교/기계학습_termproject/preprocess_data/X_test_select.pkl', 'rb') as f:\n",
        "     X_test_select = pickle.load(f)"
      ],
      "metadata": {
        "id": "p95IMxGX4Nun"
      },
      "execution_count": null,
      "outputs": []
    },
    {
      "cell_type": "code",
      "execution_count": null,
      "metadata": {
        "id": "u4AJ1Ent7LuR"
      },
      "outputs": [],
      "source": [
        "from sklearn.model_selection import GridSearchCV\n",
        "from sklearn.model_selection import StratifiedKFold\n",
        "from sklearn.metrics import accuracy_score\n",
        "\n",
        "scv = StratifiedKFold(n_splits=10, shuffle=True, random_state=42)"
      ]
    },
    {
      "cell_type": "code",
      "execution_count": null,
      "metadata": {
        "id": "yUWhqe1b8KDc"
      },
      "outputs": [],
      "source": [
        "from sklearn.model_selection import train_test_split\n",
        "\n",
        "X_tra, X_val, y_tra, y_val = train_test_split(X_train, y_train, random_state=42)\n",
        "X_tra_s, X_val_s, y_tra_s, y_val_s = train_test_split(X_train_select, y_train, random_state=42)"
      ]
    },
    {
      "cell_type": "code",
      "execution_count": null,
      "metadata": {
        "id": "57K-dcev7CJC"
      },
      "outputs": [],
      "source": [
        "# 모델 저장을 위한 joblib\n",
        "import joblib"
      ]
    },
    {
      "cell_type": "markdown",
      "metadata": {
        "id": "UlLe_cFL6-XT"
      },
      "source": [
        "## 4-1. Lositic Regression"
      ]
    },
    {
      "cell_type": "code",
      "execution_count": null,
      "metadata": {
        "id": "sbDF855D7e6Z"
      },
      "outputs": [],
      "source": [
        "from sklearn.linear_model import LogisticRegression"
      ]
    },
    {
      "cell_type": "markdown",
      "source": [
        "### Original Data"
      ],
      "metadata": {
        "id": "PS_r59kM5aVR"
      }
    },
    {
      "cell_type": "code",
      "execution_count": null,
      "metadata": {
        "id": "XYd-hEuk8GvY"
      },
      "outputs": [],
      "source": [
        "LR = LogisticRegression()\n",
        "lr_params = {\n",
        "    'C': [0.001, 0.01, 0.1, 1, 10, 100],\n",
        "    'penalty': ['l1', 'l2']\n",
        "}"
      ]
    },
    {
      "cell_type": "code",
      "execution_count": null,
      "metadata": {
        "id": "QwjSanAh7sO_"
      },
      "outputs": [],
      "source": [
        "LR_clf = GridSearchCV(LR, lr_params, cv = scv)\n",
        "LR_clf.fit(X_tra, y_tra)"
      ]
    },
    {
      "cell_type": "code",
      "execution_count": null,
      "metadata": {
        "colab": {
          "base_uri": "https://localhost:8080/"
        },
        "id": "_DwvLKfd9wPw",
        "outputId": "c17e9ea0-0208-4ffd-bf23-6b09013fb7bd"
      },
      "outputs": [
        {
          "output_type": "stream",
          "name": "stdout",
          "text": [
            "best parameters  {'C': 0.1, 'penalty': 'l2'}\n",
            "best score : 0.6447435402616398\n"
          ]
        }
      ],
      "source": [
        "print(\"best parameters \",LR_clf.best_params_)\n",
        "print(\"best score :\",LR_clf.best_score_)"
      ]
    },
    {
      "cell_type": "code",
      "execution_count": null,
      "metadata": {
        "id": "kIXSWl0jQkU4"
      },
      "outputs": [],
      "source": [
        "lr_best = LR_clf.best_estimator_"
      ]
    },
    {
      "cell_type": "code",
      "execution_count": null,
      "metadata": {
        "colab": {
          "base_uri": "https://localhost:8080/"
        },
        "id": "k-8tEk37-Em5",
        "outputId": "e90702aa-3584-49cf-808e-ddca366fb7a0"
      },
      "outputs": [
        {
          "output_type": "stream",
          "name": "stdout",
          "text": [
            "score :  0.6335600907029478\n"
          ]
        }
      ],
      "source": [
        "print(\"score : \",accuracy_score(y_val, lr_best.predict(X_val)))"
      ]
    },
    {
      "cell_type": "code",
      "execution_count": null,
      "metadata": {
        "colab": {
          "base_uri": "https://localhost:8080/"
        },
        "id": "VEYQM0Hd7W-r",
        "outputId": "1268ac30-02af-443a-9bd7-7e5fe533a517"
      },
      "outputs": [
        {
          "output_type": "execute_result",
          "data": {
            "text/plain": [
              "['/content/drive/MyDrive/Colab_Notebooks/2022_2 고려대학교/기계학습_termproject/model/lr_best.pkl']"
            ]
          },
          "metadata": {},
          "execution_count": 143
        }
      ],
      "source": [
        "joblib.dump(lr_best,'/content/drive/MyDrive/Colab_Notebooks/2022_2 고려대학교/기계학습_termproject/model/lr_best.pkl' )"
      ]
    },
    {
      "cell_type": "markdown",
      "source": [
        "### Feature Selection 적용 Data"
      ],
      "metadata": {
        "id": "vFs7VUGj55A-"
      }
    },
    {
      "cell_type": "code",
      "execution_count": null,
      "metadata": {
        "id": "ohbtz2vv6ApD"
      },
      "outputs": [],
      "source": [
        "LR = LogisticRegression()\n",
        "lr_params = {\n",
        "    'C': [0.001, 0.01, 0.1, 1, 10, 100],\n",
        "    'penalty': ['l1', 'l2']\n",
        "}"
      ]
    },
    {
      "cell_type": "code",
      "execution_count": null,
      "metadata": {
        "id": "Kac2QxsR6ApE"
      },
      "outputs": [],
      "source": [
        "LR_s_clf = GridSearchCV(LR, lr_params, cv = scv)\n",
        "LR_s_clf.fit(X_tra_s, y_tra_s)"
      ]
    },
    {
      "cell_type": "code",
      "execution_count": null,
      "metadata": {
        "colab": {
          "base_uri": "https://localhost:8080/"
        },
        "outputId": "1c194c7c-1bd8-4ad8-b7a1-476a6f979962",
        "id": "FBC8rMha6ApE"
      },
      "outputs": [
        {
          "output_type": "stream",
          "name": "stdout",
          "text": [
            "best parameters  {'C': 0.1, 'penalty': 'l2'}\n",
            "best score : 0.6446427338100269\n"
          ]
        }
      ],
      "source": [
        "print(\"best parameters \",LR_s_clf.best_params_)\n",
        "print(\"best score :\",LR_s_clf.best_score_)"
      ]
    },
    {
      "cell_type": "code",
      "execution_count": null,
      "metadata": {
        "id": "DN8Gw3XD6ApE"
      },
      "outputs": [],
      "source": [
        "lr_s_best = LR_s_clf.best_estimator_"
      ]
    },
    {
      "cell_type": "code",
      "execution_count": null,
      "metadata": {
        "colab": {
          "base_uri": "https://localhost:8080/"
        },
        "outputId": "747f76f1-b1fc-461b-c02d-1edbd962c719",
        "id": "khgA-NLG6ApE"
      },
      "outputs": [
        {
          "output_type": "stream",
          "name": "stdout",
          "text": [
            "score :  0.6332577475434619\n"
          ]
        }
      ],
      "source": [
        "print(\"score : \",accuracy_score(y_val_s, lr_s_best.predict(X_val_s)))"
      ]
    },
    {
      "cell_type": "code",
      "source": [
        "joblib.dump(lr_s_best,'/content/drive/MyDrive/Colab_Notebooks/2022_2 고려대학교/기계학습_termproject/model/lr_s_best.pkl' )"
      ],
      "metadata": {
        "colab": {
          "base_uri": "https://localhost:8080/"
        },
        "id": "wNrpK1uu6Hxt",
        "outputId": "7201a0e9-c294-4bdb-c12e-b22300e9d369"
      },
      "execution_count": null,
      "outputs": [
        {
          "output_type": "execute_result",
          "data": {
            "text/plain": [
              "['/content/drive/MyDrive/Colab_Notebooks/2022_2 고려대학교/기계학습_termproject/model/lr_s_best.pkl']"
            ]
          },
          "metadata": {},
          "execution_count": 164
        }
      ]
    },
    {
      "cell_type": "markdown",
      "metadata": {
        "id": "AoxG7fCL7AtT"
      },
      "source": [
        "## 4-2. Random Forest"
      ]
    },
    {
      "cell_type": "code",
      "execution_count": null,
      "metadata": {
        "id": "V21cBg8p-LvZ"
      },
      "outputs": [],
      "source": [
        "from sklearn.ensemble import RandomForestClassifier"
      ]
    },
    {
      "cell_type": "markdown",
      "source": [
        "### Original Data"
      ],
      "metadata": {
        "id": "aaizsudm6r7_"
      }
    },
    {
      "cell_type": "code",
      "execution_count": null,
      "metadata": {
        "id": "muYakYL_-MB4"
      },
      "outputs": [],
      "source": [
        "RFC = RandomForestClassifier()\n",
        "rfc_params = {\n",
        "    'n_estimators' : [10, 30, 50, 100, 200, 300],\n",
        "    'max_depth' : [10, 30, 50, 100, 150, 300, 500],\n",
        "    'min_samples_leaf' : [3, 8, 12, 18],\n",
        "    }"
      ]
    },
    {
      "cell_type": "code",
      "execution_count": null,
      "metadata": {
        "id": "wmW6WcD5_q6l"
      },
      "outputs": [],
      "source": [
        "RF_clf = GridSearchCV(RFC, rfc_params, cv = scv)\n",
        "RF_clf.fit(X_tra, y_tra)"
      ]
    },
    {
      "cell_type": "code",
      "execution_count": null,
      "metadata": {
        "id": "2yszJTvv_wS2",
        "colab": {
          "base_uri": "https://localhost:8080/"
        },
        "outputId": "c0f3ee47-dcc6-4e77-d280-20915b72b70c"
      },
      "outputs": [
        {
          "output_type": "stream",
          "name": "stdout",
          "text": [
            "best parameters  {'max_depth': 30, 'min_samples_leaf': 3, 'n_estimators': 200}\n",
            "best score : 0.7141416978142521\n"
          ]
        }
      ],
      "source": [
        "print(\"best parameters \",RF_clf.best_params_)\n",
        "print(\"best score :\",RF_clf.best_score_)"
      ]
    },
    {
      "cell_type": "code",
      "execution_count": null,
      "metadata": {
        "id": "lXWdYdD2Q2Rp"
      },
      "outputs": [],
      "source": [
        "RF_best = RF_clf.best_estimator_"
      ]
    },
    {
      "cell_type": "code",
      "execution_count": null,
      "metadata": {
        "id": "7UH6zl2B_ydK",
        "colab": {
          "base_uri": "https://localhost:8080/"
        },
        "outputId": "c63e2466-dde5-4472-e485-08762f5d5a21"
      },
      "outputs": [
        {
          "output_type": "stream",
          "name": "stdout",
          "text": [
            "score :  0.7064247921390778\n"
          ]
        }
      ],
      "source": [
        "print(\"score : \",accuracy_score(y_val, RF_best.predict(X_val)))"
      ]
    },
    {
      "cell_type": "code",
      "execution_count": null,
      "metadata": {
        "id": "P3qb4Y0D7I1M",
        "colab": {
          "base_uri": "https://localhost:8080/"
        },
        "outputId": "1bf6a477-21c4-4756-8a42-9328affe62e9"
      },
      "outputs": [
        {
          "output_type": "execute_result",
          "data": {
            "text/plain": [
              "['/content/drive/MyDrive/Colab_Notebooks/2022_2 고려대학교/기계학습_termproject/model/RF_best.pkl']"
            ]
          },
          "metadata": {},
          "execution_count": 184
        }
      ],
      "source": [
        "joblib.dump(RF_best,'/content/drive/MyDrive/Colab_Notebooks/2022_2 고려대학교/기계학습_termproject/model/RF_best.pkl' )"
      ]
    },
    {
      "cell_type": "markdown",
      "source": [
        "### Feature Selection 적용 Data"
      ],
      "metadata": {
        "id": "JykXGu9P6oX5"
      }
    },
    {
      "cell_type": "code",
      "execution_count": null,
      "metadata": {
        "id": "a7O2X5NC6xMO"
      },
      "outputs": [],
      "source": [
        "RFC = RandomForestClassifier()\n",
        "rfc_params = {\n",
        "    'n_estimators' : [10, 30, 50, 100, 200, 300],\n",
        "    'max_depth' : [10, 30, 50, 100, 150, 300, 500],\n",
        "    'min_samples_leaf' : [3, 8, 12, 18],\n",
        "    }"
      ]
    },
    {
      "cell_type": "code",
      "execution_count": null,
      "metadata": {
        "id": "iJJvhOaT6xMO"
      },
      "outputs": [],
      "source": [
        "RF_s_clf = GridSearchCV(RFC, rfc_params, cv = scv)\n",
        "RF_s_clf.fit(X_tra_s, y_tra_s)"
      ]
    },
    {
      "cell_type": "code",
      "execution_count": null,
      "metadata": {
        "colab": {
          "base_uri": "https://localhost:8080/"
        },
        "id": "ucJGVfyl6xMO",
        "outputId": "b5887dd9-62a3-468b-d15a-8084b85a1eec"
      },
      "outputs": [
        {
          "output_type": "stream",
          "name": "stdout",
          "text": [
            "best parameters  {'max_depth': 150, 'min_samples_leaf': 3, 'n_estimators': 50}\n",
            "best score : 0.7113697489233769\n"
          ]
        }
      ],
      "source": [
        "print(\"best parameters \",RF_s_clf.best_params_)\n",
        "print(\"best score :\",RF_s_clf.best_score_)"
      ]
    },
    {
      "cell_type": "code",
      "execution_count": null,
      "metadata": {
        "id": "pf_i32Q56xMO"
      },
      "outputs": [],
      "source": [
        "RF_s_best = RF_s_clf.best_estimator_"
      ]
    },
    {
      "cell_type": "code",
      "execution_count": null,
      "metadata": {
        "colab": {
          "base_uri": "https://localhost:8080/"
        },
        "id": "o8OiC8el6xMO",
        "outputId": "a35c50a5-8b7f-43b9-c009-9830242e9271"
      },
      "outputs": [
        {
          "output_type": "stream",
          "name": "stdout",
          "text": [
            "score :  0.7002267573696145\n"
          ]
        }
      ],
      "source": [
        "print(\"score : \",accuracy_score(y_val_s, RF_s_best.predict(X_val_s)))"
      ]
    },
    {
      "cell_type": "code",
      "execution_count": null,
      "metadata": {
        "colab": {
          "base_uri": "https://localhost:8080/"
        },
        "id": "XQj7dSVt6xMO",
        "outputId": "1d263606-3e1e-4154-92fa-7658a3ba325b"
      },
      "outputs": [
        {
          "output_type": "execute_result",
          "data": {
            "text/plain": [
              "['/content/drive/MyDrive/Colab_Notebooks/2022_2 고려대학교/기계학습_termproject/model/RF_s_best.pkl']"
            ]
          },
          "metadata": {},
          "execution_count": 190
        }
      ],
      "source": [
        "joblib.dump(RF_s_best,'/content/drive/MyDrive/Colab_Notebooks/2022_2 고려대학교/기계학습_termproject/model/RF_s_best.pkl' )"
      ]
    },
    {
      "cell_type": "markdown",
      "metadata": {
        "id": "VmMf_S5A7Ccj"
      },
      "source": [
        "## 4-3. Decision Tree Classifier"
      ]
    },
    {
      "cell_type": "code",
      "execution_count": null,
      "metadata": {
        "id": "S50djwFHAFbh"
      },
      "outputs": [],
      "source": [
        "from sklearn.tree import DecisionTreeClassifier"
      ]
    },
    {
      "cell_type": "markdown",
      "source": [
        "### Original Data"
      ],
      "metadata": {
        "id": "bO_Ww9NN7OML"
      }
    },
    {
      "cell_type": "code",
      "execution_count": null,
      "metadata": {
        "id": "XCpsKQ-HAFT5"
      },
      "outputs": [],
      "source": [
        "DT = DecisionTreeClassifier(random_state=42)\n",
        "dt_params = {\n",
        "    'max_depth':[3,7,10,15,30],\n",
        "    'min_samples_leaf' : [1,3,5,10]\n",
        "    }"
      ]
    },
    {
      "cell_type": "code",
      "execution_count": null,
      "metadata": {
        "id": "e51QCOAYBpEV",
        "colab": {
          "base_uri": "https://localhost:8080/"
        },
        "outputId": "534fab6c-867c-4669-8036-d84c5f14f44d"
      },
      "outputs": [
        {
          "output_type": "execute_result",
          "data": {
            "text/plain": [
              "GridSearchCV(cv=StratifiedKFold(n_splits=10, random_state=42, shuffle=True),\n",
              "             estimator=DecisionTreeClassifier(random_state=42),\n",
              "             param_grid={'max_depth': [3, 7, 10, 15, 30],\n",
              "                         'min_samples_leaf': [1, 3, 5, 10]})"
            ]
          },
          "metadata": {},
          "execution_count": 15
        }
      ],
      "source": [
        "DT_clf = GridSearchCV(DT, dt_params, cv = scv)\n",
        "DT_clf.fit(X_tra, y_tra)"
      ]
    },
    {
      "cell_type": "code",
      "execution_count": null,
      "metadata": {
        "id": "4E_3YasxAFIN",
        "colab": {
          "base_uri": "https://localhost:8080/"
        },
        "outputId": "ce9daaf2-5988-4f94-d4d2-9dd220b3f770"
      },
      "outputs": [
        {
          "output_type": "stream",
          "name": "stdout",
          "text": [
            "best parameters  {'max_depth': 3, 'min_samples_leaf': 1}\n",
            "best score : 0.6911099628260339\n"
          ]
        }
      ],
      "source": [
        "print(\"best parameters \",DT_clf.best_params_)\n",
        "print(\"best score :\",DT_clf.best_score_)"
      ]
    },
    {
      "cell_type": "code",
      "execution_count": null,
      "metadata": {
        "id": "2PB9dLXdRH0X"
      },
      "outputs": [],
      "source": [
        "DT_best = DT_clf.best_estimator_"
      ]
    },
    {
      "cell_type": "code",
      "execution_count": null,
      "metadata": {
        "id": "CpGzpIY4BMh_",
        "colab": {
          "base_uri": "https://localhost:8080/"
        },
        "outputId": "9c04536e-2231-4faa-819c-1b86ebcf98f8"
      },
      "outputs": [
        {
          "output_type": "stream",
          "name": "stdout",
          "text": [
            "score :  0.6829931972789116\n"
          ]
        }
      ],
      "source": [
        "print(\"score : \",accuracy_score(y_val, DT_best.predict(X_val)))"
      ]
    },
    {
      "cell_type": "code",
      "execution_count": null,
      "metadata": {
        "id": "fhZqGrLV7Zgr",
        "colab": {
          "base_uri": "https://localhost:8080/"
        },
        "outputId": "171e737f-6dff-4530-efd5-351edab2c7dc"
      },
      "outputs": [
        {
          "output_type": "execute_result",
          "data": {
            "text/plain": [
              "['/content/drive/MyDrive/Colab_Notebooks/2022_2 고려대학교/기계학습_termproject/model/DT_best.pkl']"
            ]
          },
          "metadata": {},
          "execution_count": 21
        }
      ],
      "source": [
        "joblib.dump(DT_best,'/content/drive/MyDrive/Colab_Notebooks/2022_2 고려대학교/기계학습_termproject/model/DT_best.pkl' )"
      ]
    },
    {
      "cell_type": "markdown",
      "source": [
        "### Feature Selection 적용 Data"
      ],
      "metadata": {
        "id": "W0aCKtTU7Qhm"
      }
    },
    {
      "cell_type": "code",
      "execution_count": null,
      "metadata": {
        "id": "1S8JonDq7Qhn"
      },
      "outputs": [],
      "source": [
        "DT = DecisionTreeClassifier(random_state=42)\n",
        "dt_params = {\n",
        "    'max_depth':[3,7,10,15,30],\n",
        "    'min_samples_leaf' : [1,3,5,10]\n",
        "    }"
      ]
    },
    {
      "cell_type": "code",
      "execution_count": null,
      "metadata": {
        "colab": {
          "base_uri": "https://localhost:8080/"
        },
        "id": "DzJ7Yhld7Qhn",
        "outputId": "dee1fa6e-a7a5-4f5e-e9f1-193adfac9575"
      },
      "outputs": [
        {
          "output_type": "execute_result",
          "data": {
            "text/plain": [
              "GridSearchCV(cv=StratifiedKFold(n_splits=10, random_state=42, shuffle=True),\n",
              "             estimator=DecisionTreeClassifier(random_state=42),\n",
              "             param_grid={'max_depth': [3, 7, 10, 15, 30],\n",
              "                         'min_samples_leaf': [1, 3, 5, 10]})"
            ]
          },
          "metadata": {},
          "execution_count": 23
        }
      ],
      "source": [
        "DT_s_clf = GridSearchCV(DT, dt_params, cv = scv)\n",
        "DT_s_clf.fit(X_tra_s, y_tra_s)"
      ]
    },
    {
      "cell_type": "code",
      "execution_count": null,
      "metadata": {
        "colab": {
          "base_uri": "https://localhost:8080/"
        },
        "id": "vgZSPJYp7Qhn",
        "outputId": "234a565a-938d-4e0f-8dc9-9dd0e5ee0e64"
      },
      "outputs": [
        {
          "output_type": "stream",
          "name": "stdout",
          "text": [
            "best parameters  {'max_depth': 3, 'min_samples_leaf': 1}\n",
            "best score : 0.6911099628260339\n"
          ]
        }
      ],
      "source": [
        "print(\"best parameters \",DT_s_clf.best_params_)\n",
        "print(\"best score :\",DT_s_clf.best_score_)"
      ]
    },
    {
      "cell_type": "code",
      "execution_count": null,
      "metadata": {
        "id": "4GSmzjMg7Qhn"
      },
      "outputs": [],
      "source": [
        "DT_s_best = DT_s_clf.best_estimator_"
      ]
    },
    {
      "cell_type": "code",
      "execution_count": null,
      "metadata": {
        "colab": {
          "base_uri": "https://localhost:8080/"
        },
        "id": "-EDsu9mT7Qhn",
        "outputId": "e2d0c99d-c760-4eb2-ad5a-fde2c48b3f38"
      },
      "outputs": [
        {
          "output_type": "stream",
          "name": "stdout",
          "text": [
            "score :  0.6829931972789116\n"
          ]
        }
      ],
      "source": [
        "print(\"score : \",accuracy_score(y_val_s, DT_s_best.predict(X_val_s)))"
      ]
    },
    {
      "cell_type": "code",
      "execution_count": null,
      "metadata": {
        "colab": {
          "base_uri": "https://localhost:8080/"
        },
        "id": "orKbLUMz7Qho",
        "outputId": "82c38c56-674f-4532-f0b9-ba1b0304d6ab"
      },
      "outputs": [
        {
          "output_type": "execute_result",
          "data": {
            "text/plain": [
              "['/content/drive/MyDrive/Colab_Notebooks/2022_2 고려대학교/기계학습_termproject/model/DT_s_best.pkl']"
            ]
          },
          "metadata": {},
          "execution_count": 28
        }
      ],
      "source": [
        "joblib.dump(DT_s_best,'/content/drive/MyDrive/Colab_Notebooks/2022_2 고려대학교/기계학습_termproject/model/DT_s_best.pkl' )"
      ]
    },
    {
      "cell_type": "markdown",
      "metadata": {
        "id": "dw67cNok7Eq9"
      },
      "source": [
        "## 4-4. Catboost"
      ]
    },
    {
      "cell_type": "code",
      "execution_count": null,
      "metadata": {
        "id": "zaY23Q0M6swD"
      },
      "outputs": [],
      "source": [
        "! pip install catboost"
      ]
    },
    {
      "cell_type": "code",
      "execution_count": null,
      "metadata": {
        "id": "Z91ThYEsBTXx"
      },
      "outputs": [],
      "source": [
        "from catboost import CatBoostClassifier"
      ]
    },
    {
      "cell_type": "code",
      "source": [
        "from tqdm import tqdm"
      ],
      "metadata": {
        "id": "7giwy-s0I-Eg"
      },
      "execution_count": null,
      "outputs": []
    },
    {
      "cell_type": "code",
      "source": [
        "def catboost_avgscore(X,y,l2_leaf_reg, depth, learning_rate):\n",
        "  kfold_accuracy_history = []\n",
        "  for train_index, valid_index in tqdm(scv.split(X, y)): \n",
        "\n",
        "      y_train, y_valid = y.iloc[train_index], y.iloc[valid_index]\n",
        "      X_train, X_valid = X.iloc[train_index], X.iloc[valid_index]\n",
        "\n",
        "      model = CatBoostClassifier(l2_leaf_reg = l2_leaf_reg , depth=depth, iterations=3000,\n",
        "                                 early_stopping_rounds= 150, learning_rate=learning_rate, random_seed=42)\n",
        "      model.fit(X_train, y_train, eval_set =[(X_train, y_train), (X_valid, y_valid)], use_best_model=True, verbose=False)\n",
        "\n",
        "      pred = model.predict(X_valid)\n",
        "      kfold_accuracy_history.append(accuracy_score(pred, y_valid)) \n",
        "\n",
        "  score = np.mean(kfold_accuracy_history)\n",
        "  print('Validation Accuracy : ',score,'\\n') \n",
        "  return score"
      ],
      "metadata": {
        "id": "LQJNRDfJ9bp7"
      },
      "execution_count": null,
      "outputs": []
    },
    {
      "cell_type": "markdown",
      "source": [
        "### Original Data"
      ],
      "metadata": {
        "id": "za0fpz_K8csV"
      }
    },
    {
      "cell_type": "code",
      "source": [
        "reg = [5,10,15]\n",
        "dep = [4,7,10]\n",
        "lr = [0.01,0.1]\n",
        "\n",
        "summary=[] # parameter 별 성능을 저장할 list 생성\n",
        "for r in reg:\n",
        "  for d in dep: \n",
        "    for l in lr:\n",
        "      score = catboost_avgscore(X_tra, y_tra, r,d,l) # 10 fold crossvalidation을 train, validation score 출력\n",
        "      summary.append([r,d,l,score]) # 각 parameter의 값과 성능을 저장"
      ],
      "metadata": {
        "id": "A_LcHg3pCGUg"
      },
      "execution_count": null,
      "outputs": []
    },
    {
      "cell_type": "code",
      "source": [
        "sc = [i[3] for i in summary]\n",
        "best_index = sc.index(max(sc))\n",
        "\n",
        "para = summary[best_index]\n",
        "\n",
        "reg = para[0]\n",
        "dep = para[1]\n",
        "lra = para[2]\n",
        "print(reg, dep, lra)"
      ],
      "metadata": {
        "id": "RTjgH6I7Tyqx",
        "colab": {
          "base_uri": "https://localhost:8080/"
        },
        "outputId": "e24ddb35-44fd-4586-866f-e05bd51892bb"
      },
      "execution_count": null,
      "outputs": [
        {
          "output_type": "stream",
          "name": "stdout",
          "text": [
            "5 10 0.01\n"
          ]
        }
      ]
    },
    {
      "cell_type": "code",
      "source": [
        "CB_best = CatBoostClassifier(l2_leaf_reg = reg , depth=dep, iterations=10000, early_stopping_rounds= 1500, learning_rate=lra, random_seed=42)\n",
        "CB_best.fit(X_tra, y_tra)"
      ],
      "metadata": {
        "id": "gTPrKjFkUY0V"
      },
      "execution_count": null,
      "outputs": []
    },
    {
      "cell_type": "code",
      "source": [
        "print(\"score : \",accuracy_score(y_val, CB_best.predict(X_val)))"
      ],
      "metadata": {
        "id": "i3TDIkysWoIN",
        "colab": {
          "base_uri": "https://localhost:8080/"
        },
        "outputId": "fcbc7303-e06f-451b-c429-7af7e5c84852"
      },
      "execution_count": null,
      "outputs": [
        {
          "output_type": "stream",
          "name": "stdout",
          "text": [
            "score :  0.7026455026455026\n"
          ]
        }
      ]
    },
    {
      "cell_type": "code",
      "execution_count": null,
      "metadata": {
        "id": "YicRdf7WN1_A",
        "colab": {
          "base_uri": "https://localhost:8080/"
        },
        "outputId": "a32c0f04-c120-4a48-97e6-b23d7a6cb545"
      },
      "outputs": [
        {
          "output_type": "execute_result",
          "data": {
            "text/plain": [
              "['/content/drive/MyDrive/Colab_Notebooks/2022_2 고려대학교/기계학습_termproject/model/CB_best.pkl']"
            ]
          },
          "metadata": {},
          "execution_count": 34
        }
      ],
      "source": [
        "joblib.dump(CB_best,'/content/drive/MyDrive/Colab_Notebooks/2022_2 고려대학교/기계학습_termproject/model/CB_best.pkl' )"
      ]
    },
    {
      "cell_type": "markdown",
      "source": [
        "### Feature Selection 적용 Data"
      ],
      "metadata": {
        "id": "YYHSyCmG8-HZ"
      }
    },
    {
      "cell_type": "code",
      "source": [
        "def catboost_avgscore_select(X,y,l2_leaf_reg, depth, learning_rate):\n",
        "  kfold_accuracy_history = []\n",
        "  for train_index, valid_index in tqdm(scv.split(X, y)):\n",
        "\n",
        "      y_train, y_valid = y.iloc[train_index], y.iloc[valid_index]\n",
        "      X_train, X_valid = X[train_index], X[valid_index]\n",
        "\n",
        "      model = CatBoostClassifier(l2_leaf_reg = l2_leaf_reg , depth=depth, iterations=3000, early_stopping_rounds= 150, learning_rate=learning_rate, random_seed=42)\n",
        "      model.fit(X_train, y_train, eval_set =[(X_train, y_train), (X_valid, y_valid)], use_best_model=True, verbose=False)\n",
        "\n",
        "      pred = model.predict(X_valid)\n",
        "      kfold_accuracy_history.append(accuracy_score(pred, y_valid)) \n",
        "\n",
        "  score = np.mean(kfold_accuracy_history)\n",
        "  print('Validation Accuracy : ',score,'\\n') \n",
        "  return score"
      ],
      "metadata": {
        "id": "7s8b-pW57_yX"
      },
      "execution_count": null,
      "outputs": []
    },
    {
      "cell_type": "code",
      "source": [
        "reg = [5,10,15]\n",
        "dep = [4,7,10]\n",
        "lr = [0.01,0.1]\n",
        "\n",
        "summary=[]\n",
        "for r in reg:\n",
        "  for d in dep: \n",
        "    for l in lr:\n",
        "      score = catboost_avgscore_select(X_tra_s, y_tra_s, r,d,l)\n",
        "      summary.append([r,d,l,score])"
      ],
      "metadata": {
        "id": "gMTDqIPe9CYm"
      },
      "execution_count": null,
      "outputs": []
    },
    {
      "cell_type": "code",
      "source": [
        "sc = [i[3] for i in summary]\n",
        "best_index = sc.index(max(sc))\n",
        "\n",
        "para = summary[best_index]\n",
        "\n",
        "reg = para[0]\n",
        "dep = para[1]\n",
        "lra = para[2]\n",
        "print(reg, dep, lra)"
      ],
      "metadata": {
        "colab": {
          "base_uri": "https://localhost:8080/"
        },
        "id": "gubiR6y69CYn",
        "outputId": "047b86e5-0b39-4563-c476-7ae1bdede910"
      },
      "execution_count": null,
      "outputs": [
        {
          "output_type": "stream",
          "name": "stdout",
          "text": [
            "5 7 0.1\n"
          ]
        }
      ]
    },
    {
      "cell_type": "code",
      "source": [
        "CB_s_best = CatBoostClassifier(l2_leaf_reg = reg , depth=dep, iterations=10000, early_stopping_rounds= 1500, learning_rate=lra, random_seed=42)\n",
        "CB_s_best.fit(X_tra_s, y_tra_s)"
      ],
      "metadata": {
        "id": "QyDYW4kn9CYn"
      },
      "execution_count": null,
      "outputs": []
    },
    {
      "cell_type": "code",
      "source": [
        "print(\"score : \",accuracy_score(y_val_s, CB_s_best.predict(X_val_s)))"
      ],
      "metadata": {
        "colab": {
          "base_uri": "https://localhost:8080/"
        },
        "id": "_SBp7Z5Y9CYn",
        "outputId": "0fc4ef9e-5f6e-4449-f1f3-fa500d35692d"
      },
      "execution_count": null,
      "outputs": [
        {
          "output_type": "stream",
          "name": "stdout",
          "text": [
            "score :  0.6820861678004535\n"
          ]
        }
      ]
    },
    {
      "cell_type": "code",
      "execution_count": null,
      "metadata": {
        "colab": {
          "base_uri": "https://localhost:8080/"
        },
        "id": "0iREsDmJ9CYn",
        "outputId": "6a8d2583-0dcb-4168-d12c-e5bee1f6a480"
      },
      "outputs": [
        {
          "output_type": "execute_result",
          "data": {
            "text/plain": [
              "['/content/drive/MyDrive/Colab_Notebooks/2022_2 고려대학교/기계학습_termproject/model/CB_s_best.pkl']"
            ]
          },
          "metadata": {},
          "execution_count": 41
        }
      ],
      "source": [
        "joblib.dump(CB_s_best,'/content/drive/MyDrive/Colab_Notebooks/2022_2 고려대학교/기계학습_termproject/model/CB_s_best.pkl' )"
      ]
    },
    {
      "cell_type": "markdown",
      "metadata": {
        "id": "DTK4hUUN7GdR"
      },
      "source": [
        "## 4-5. Voting"
      ]
    },
    {
      "cell_type": "code",
      "execution_count": null,
      "metadata": {
        "id": "b8Bnk3JpFCQY"
      },
      "outputs": [],
      "source": [
        "from sklearn.ensemble import VotingClassifier"
      ]
    },
    {
      "cell_type": "markdown",
      "source": [
        "### Original Data"
      ],
      "metadata": {
        "id": "QdyfloN3ZQRr"
      }
    },
    {
      "cell_type": "code",
      "execution_count": null,
      "metadata": {
        "id": "e_nYx3dmw3BP"
      },
      "outputs": [],
      "source": [
        "lr_best = joblib.load('/content/drive/MyDrive/Colab_Notebooks/2022_2 고려대학교/기계학습_termproject/model/lr_best.pkl')\n",
        "RF_best = joblib.load('/content/drive/MyDrive/Colab_Notebooks/2022_2 고려대학교/기계학습_termproject/model/RF_best.pkl')\n",
        "DT_best = joblib.load('/content/drive/MyDrive/Colab_Notebooks/2022_2 고려대학교/기계학습_termproject/model/DT_best.pkl')\n",
        "CB_best = joblib.load('/content/drive/MyDrive/Colab_Notebooks/2022_2 고려대학교/기계학습_termproject/model/CB_best.pkl')"
      ]
    },
    {
      "cell_type": "code",
      "execution_count": null,
      "metadata": {
        "id": "jcnBIJ6gFCIH"
      },
      "outputs": [],
      "source": [
        "clf = [['Logistic Regression', lr_best],\n",
        "       ['RandomForest',  RF_best],\n",
        "       ['Decision Tree Classifier', DT_best],\n",
        "       ['Cat Boost', CB_best]]\n",
        "\n",
        "soft_voting = VotingClassifier(clf, voting='soft')"
      ]
    },
    {
      "cell_type": "code",
      "execution_count": null,
      "metadata": {
        "id": "Byr8gAq8FwxP"
      },
      "outputs": [],
      "source": [
        "soft_voting.fit(X_tra, y_tra)"
      ]
    },
    {
      "cell_type": "code",
      "execution_count": null,
      "metadata": {
        "id": "Aac_iP8fF6f5",
        "colab": {
          "base_uri": "https://localhost:8080/"
        },
        "outputId": "60b2ec94-00f1-45a7-8954-a3ea12b24a14"
      },
      "outputs": [
        {
          "output_type": "stream",
          "name": "stdout",
          "text": [
            "score :  0.6952380952380952\n"
          ]
        }
      ],
      "source": [
        "print(\"score : \",accuracy_score(y_val, soft_voting.predict(X_val)))"
      ]
    },
    {
      "cell_type": "code",
      "execution_count": null,
      "metadata": {
        "id": "qf7mMb-8Oa8c",
        "colab": {
          "base_uri": "https://localhost:8080/"
        },
        "outputId": "4ebb84a7-7ca2-49fc-d528-c52c0d00f5c0"
      },
      "outputs": [
        {
          "output_type": "execute_result",
          "data": {
            "text/plain": [
              "['/content/drive/MyDrive/Colab_Notebooks/2022_2 고려대학교/기계학습_termproject/soft_voting.pkl']"
            ]
          },
          "metadata": {},
          "execution_count": 37
        }
      ],
      "source": [
        "joblib.dump(soft_voting,'/content/drive/MyDrive/Colab_Notebooks/2022_2 고려대학교/기계학습_termproject/soft_voting.pkl' )"
      ]
    },
    {
      "cell_type": "markdown",
      "source": [
        "### Feature Selection 적용 Data"
      ],
      "metadata": {
        "id": "nCo4um6mZS4F"
      }
    },
    {
      "cell_type": "code",
      "execution_count": null,
      "metadata": {
        "id": "QxUJ9YgoZY_p"
      },
      "outputs": [],
      "source": [
        "lr_s_best = joblib.load('/content/drive/MyDrive/Colab_Notebooks/2022_2 고려대학교/기계학습_termproject/model/lr_s_best.pkl')\n",
        "RF_s_best = joblib.load('/content/drive/MyDrive/Colab_Notebooks/2022_2 고려대학교/기계학습_termproject/model/RF_s_best.pkl')\n",
        "DT_s_best = joblib.load('/content/drive/MyDrive/Colab_Notebooks/2022_2 고려대학교/기계학습_termproject/model/DT_s_best.pkl')\n",
        "CB_s_best = joblib.load('/content/drive/MyDrive/Colab_Notebooks/2022_2 고려대학교/기계학습_termproject/model/CB_s_best.pkl')"
      ]
    },
    {
      "cell_type": "code",
      "execution_count": null,
      "metadata": {
        "id": "vru2ZuIGZY_p"
      },
      "outputs": [],
      "source": [
        "clf_s = [['Logistic Regression', lr_s_best],\n",
        "       ['RandomForest',  RF_s_best],\n",
        "       ['Decision Tree Classifier', DT_s_best],\n",
        "       ['Cat Boost', CB_s_best]]\n",
        "\n",
        "soft_voting_s = VotingClassifier(clf_s, voting='soft')"
      ]
    },
    {
      "cell_type": "code",
      "execution_count": null,
      "metadata": {
        "id": "6sBVf-8GZY_q"
      },
      "outputs": [],
      "source": [
        "soft_voting_s.fit(X_tra_s, y_tra_s)"
      ]
    },
    {
      "cell_type": "code",
      "execution_count": null,
      "metadata": {
        "colab": {
          "base_uri": "https://localhost:8080/"
        },
        "id": "dwcAaiJlZY_q",
        "outputId": "24707d8f-2435-4ca2-f461-a4a286ebc5ea"
      },
      "outputs": [
        {
          "output_type": "stream",
          "name": "stdout",
          "text": [
            "score :  0.6929705215419502\n"
          ]
        }
      ],
      "source": [
        "print(\"score : \",accuracy_score(y_val_s, soft_voting_s.predict(X_val_s)))"
      ]
    },
    {
      "cell_type": "code",
      "execution_count": null,
      "metadata": {
        "colab": {
          "base_uri": "https://localhost:8080/"
        },
        "id": "d63Tag_pZY_q",
        "outputId": "044bfcd4-e87d-47b1-fe59-5d7f03cd87a3"
      },
      "outputs": [
        {
          "output_type": "execute_result",
          "data": {
            "text/plain": [
              "['/content/drive/MyDrive/Colab_Notebooks/2022_2 고려대학교/기계학습_termproject/soft_voting_s.pkl']"
            ]
          },
          "metadata": {},
          "execution_count": 44
        }
      ],
      "source": [
        "joblib.dump(soft_voting_s,'/content/drive/MyDrive/Colab_Notebooks/2022_2 고려대학교/기계학습_termproject/soft_voting_s.pkl' )"
      ]
    },
    {
      "cell_type": "markdown",
      "source": [
        "# 5. 결과\n",
        "Logistic Regression, Decision Tree, Random Forest, CatBoost, Voting의 총 5가지 모델을 비교해본 결과, Original Data와 Feature Selection을 진행한 Data 모두에 대해 Validation Score이 가장 높았던 모델은 Random Forest였다.\n",
        "\n",
        "<br>\n",
        "\n",
        "따라서 Test Set에 대해서 Random Forest와 Voting을 모두 시도해보았다.\n",
        "\n",
        "![스크린샷 2022-12-21 오후 5.00.53.png](data:image/png;base64,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)\n",
        "\n",
        "Dacon에 제출해서 확인해본 결과, feature selection을 진행한 voting 모델의 점수가 가장 높았다. 여러개의 모델을 함께 사용하는 Voting의 generalization 성능이 더 높았기 때문이라고 유추할 수 있다.\n",
        "그러나, Dacon에서 하루 제출 횟수가 3회로 제한되어있어서, 다 다양한 시도에 대한 test score를 확인하지 못한 아쉬움이 있다.\n",
        "\n",
        "\n",
        "<br>\n",
        "\n",
        "또한, Decision Tree와 이를 ensemble한 random forest 사이에서의 성능차이도 확실하게 볼 수 있었다. \n",
        "\n",
        "<br>\n",
        "\n",
        "Feature Selection의 진행 유무는 대부분의 model에서 성능에 큰 영향을 끼치지는 못했다. 그러나 CatBoost에서는 Validation Score이 0.702, 0.682 정도로 Original Data의 성능이 좋았다. 이는 Categorical Data에 좋은 성능을 보이는 Catboost에서, feature의 개수가 줄어들어서 정보 손실이 발생했음을 유추할 수 있었다. Catboost 이외의 model에서도 모두 Original data에 대한 accuracy score이 더 높았는데, 이도 마찬가지로 feature drop 과정에서 정보 손실이 있었던 것으로 보인다.\n",
        "\n"
      ],
      "metadata": {
        "id": "P5uvgUaFnSpc"
      }
    },
    {
      "cell_type": "code",
      "source": [
        "# random forest\n",
        "y_pred_RF = RF_best.predict_proba(X_test)\n",
        "y_pred_RF_s = RF_s_best.predict_proba(X_test_select)\n",
        "\n",
        "# voting\n",
        "y_pred_v = soft_voting.predict_proba(X_test)\n",
        "y_pred_v_s = soft_voting_s.predict_proba(X_test_select)"
      ],
      "metadata": {
        "colab": {
          "base_uri": "https://localhost:8080/"
        },
        "id": "kOdzisQscciY",
        "outputId": "006ac740-e324-4c2b-b47b-a94b9d104ce8"
      },
      "execution_count": null,
      "outputs": [
        {
          "output_type": "stream",
          "name": "stderr",
          "text": [
            "/usr/local/lib/python3.8/dist-packages/sklearn/base.py:443: UserWarning: X has feature names, but RandomForestClassifier was fitted without feature names\n",
            "  warnings.warn(\n"
          ]
        }
      ]
    },
    {
      "cell_type": "code",
      "source": [
        "sub_rf = pd.read_csv('/content/drive/MyDrive/Colab_Notebooks/2022_2 고려대학교/기계학습_termproject/open/sample_submission.csv')\n",
        "sub_rf_s = pd.read_csv('/content/drive/MyDrive/Colab_Notebooks/2022_2 고려대학교/기계학습_termproject/open/sample_submission.csv')\n",
        "\n",
        "sub_v = pd.read_csv('/content/drive/MyDrive/Colab_Notebooks/2022_2 고려대학교/기계학습_termproject/open/sample_submission.csv')\n",
        "sub_v_s = pd.read_csv('/content/drive/MyDrive/Colab_Notebooks/2022_2 고려대학교/기계학습_termproject/open/sample_submission.csv')"
      ],
      "metadata": {
        "id": "2klH1OxFaNUi"
      },
      "execution_count": null,
      "outputs": []
    },
    {
      "cell_type": "code",
      "source": [
        "sub_rf.iloc[:,1:] = y_pred_RF\n",
        "sub_rf_s.iloc[:,1:] = y_pred_RF_s\n",
        "sub_v.iloc[:,1:] = y_pred_v\n",
        "sub_v_s.iloc[:,1:] = y_pred_v_s"
      ],
      "metadata": {
        "id": "fg1wfvlqeKqT"
      },
      "execution_count": null,
      "outputs": []
    },
    {
      "cell_type": "code",
      "source": [
        "sub_rf.to_csv('/content/drive/MyDrive/Colab_Notebooks/2022_2 고려대학교/기계학습_termproject/sub_rf.csv', index=False)\n",
        "sub_rf_s.to_csv('/content/drive/MyDrive/Colab_Notebooks/2022_2 고려대학교/기계학습_termproject/sub_rf_s.csv', index=False)\n",
        "\n",
        "sub_v.to_csv('/content/drive/MyDrive/Colab_Notebooks/2022_2 고려대학교/기계학습_termproject/sub_v.csv', index=False)\n",
        "sub_v_s.to_csv('/content/drive/MyDrive/Colab_Notebooks/2022_2 고려대학교/기계학습_termproject/sub_v_s.csv', index=False)"
      ],
      "metadata": {
        "id": "tUlm3h5Fjou8"
      },
      "execution_count": null,
      "outputs": []
    }
  ],
  "metadata": {
    "colab": {
      "provenance": []
    },
    "kernelspec": {
      "display_name": "Python 3",
      "name": "python3"
    },
    "language_info": {
      "name": "python"
    },
    "gpuClass": "standard"
  },
  "nbformat": 4,
  "nbformat_minor": 0
}